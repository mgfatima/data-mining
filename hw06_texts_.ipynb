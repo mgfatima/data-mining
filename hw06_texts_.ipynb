{
  "cells": [
    {
      "cell_type": "markdown",
      "metadata": {
        "id": "Ffq6A2-ifzAA"
      },
      "source": [
        "# Интеллектуальный анализ данных – весна 2025\n",
        "# Домашнее задание 6: классификация текстов"
      ]
    },
    {
      "cell_type": "markdown",
      "source": [
        "Правила:\n",
        "\n",
        "\n",
        "\n",
        "*   Домашнее задание оценивается в 10 баллов.\n",
        "*   Можно использовать без доказательства любые результаты, встречавшиеся на лекциях или семинарах по курсу, если получение этих результатов не является вопросом задания.\n",
        "*  Можно использовать любые свободные источники с *обязательным* указанием ссылки на них.\n",
        "*  Плагиат не допускается. При обнаружении случаев списывания, 0 за работу выставляется всем участникам нарушения, даже если можно установить, кто у кого списал.\n",
        "*  Старайтесь сделать код как можно более оптимальным. В частности, будет штрафоваться использование циклов в тех случаях, когда операцию можно совершить при помощи инструментов библиотек, о которых рассказывалось в курсе.\n",
        "* Если в задании есть вопрос на рассуждение, то за отсутствие ответа на него балл за задание будет снижен вполовину."
      ],
      "metadata": {
        "id": "EPcxtekTA1Sm"
      }
    },
    {
      "cell_type": "markdown",
      "metadata": {
        "id": "itRtFtrOf0_b"
      },
      "source": [
        "В этом домашнем задании вам предстоит построить классификатор текстов.\n",
        "\n",
        "Будем предсказывать эмоциональную окраску твиттов о коронавирусе.\n",
        "\n"
      ]
    },
    {
      "cell_type": "code",
      "execution_count": 114,
      "metadata": {
        "id": "tNGRVO7_g9mz"
      },
      "outputs": [],
      "source": [
        "import numpy as np\n",
        "import pandas as pd\n",
        "from typing import  List\n",
        "import matplotlib.pyplot as plt\n",
        "import seaborn as sns\n",
        "from string import punctuation"
      ]
    },
    {
      "cell_type": "code",
      "execution_count": 115,
      "metadata": {
        "id": "zOy8iHJQg_Ss",
        "colab": {
          "base_uri": "https://localhost:8080/",
          "height": 244
        },
        "outputId": "68cc76a4-bf95-442b-d99d-e8dd0a1542f9"
      },
      "outputs": [
        {
          "output_type": "execute_result",
          "data": {
            "text/plain": [
              "       UserName  ScreenName      Location     TweetAt  \\\n",
              "618        4531       49483  London/Essex  17-03-2020   \n",
              "20004     28188       73140           JHB  26-03-2020   \n",
              "25506     35041       79993           NaN  06-04-2020   \n",
              "5223      10146       55098          Fiji  19-03-2020   \n",
              "\n",
              "                                           OriginalTweet           Sentiment  \n",
              "618    NEW PRICE LIST NEW METHODS NO NONSENSE Check o...  Extremely Negative  \n",
              "20004  A lady fro @CheckersSA Brits tells me to hide ...            Positive  \n",
              "25506  @airvistara @IndiGo6E @narendramodi Tickets pr...            Positive  \n",
              "5223   COVID-19-  STOP PANIC BUYING\\r\\r\\n\\r\\r\\nWhile ...  Extremely Negative  "
            ],
            "text/html": [
              "\n",
              "  <div id=\"df-c0fb1f1e-4711-4b29-88a7-06530f538ce9\" class=\"colab-df-container\">\n",
              "    <div>\n",
              "<style scoped>\n",
              "    .dataframe tbody tr th:only-of-type {\n",
              "        vertical-align: middle;\n",
              "    }\n",
              "\n",
              "    .dataframe tbody tr th {\n",
              "        vertical-align: top;\n",
              "    }\n",
              "\n",
              "    .dataframe thead th {\n",
              "        text-align: right;\n",
              "    }\n",
              "</style>\n",
              "<table border=\"1\" class=\"dataframe\">\n",
              "  <thead>\n",
              "    <tr style=\"text-align: right;\">\n",
              "      <th></th>\n",
              "      <th>UserName</th>\n",
              "      <th>ScreenName</th>\n",
              "      <th>Location</th>\n",
              "      <th>TweetAt</th>\n",
              "      <th>OriginalTweet</th>\n",
              "      <th>Sentiment</th>\n",
              "    </tr>\n",
              "  </thead>\n",
              "  <tbody>\n",
              "    <tr>\n",
              "      <th>618</th>\n",
              "      <td>4531</td>\n",
              "      <td>49483</td>\n",
              "      <td>London/Essex</td>\n",
              "      <td>17-03-2020</td>\n",
              "      <td>NEW PRICE LIST NEW METHODS NO NONSENSE Check o...</td>\n",
              "      <td>Extremely Negative</td>\n",
              "    </tr>\n",
              "    <tr>\n",
              "      <th>20004</th>\n",
              "      <td>28188</td>\n",
              "      <td>73140</td>\n",
              "      <td>JHB</td>\n",
              "      <td>26-03-2020</td>\n",
              "      <td>A lady fro @CheckersSA Brits tells me to hide ...</td>\n",
              "      <td>Positive</td>\n",
              "    </tr>\n",
              "    <tr>\n",
              "      <th>25506</th>\n",
              "      <td>35041</td>\n",
              "      <td>79993</td>\n",
              "      <td>NaN</td>\n",
              "      <td>06-04-2020</td>\n",
              "      <td>@airvistara @IndiGo6E @narendramodi Tickets pr...</td>\n",
              "      <td>Positive</td>\n",
              "    </tr>\n",
              "    <tr>\n",
              "      <th>5223</th>\n",
              "      <td>10146</td>\n",
              "      <td>55098</td>\n",
              "      <td>Fiji</td>\n",
              "      <td>19-03-2020</td>\n",
              "      <td>COVID-19-  STOP PANIC BUYING\\r\\r\\n\\r\\r\\nWhile ...</td>\n",
              "      <td>Extremely Negative</td>\n",
              "    </tr>\n",
              "  </tbody>\n",
              "</table>\n",
              "</div>\n",
              "    <div class=\"colab-df-buttons\">\n",
              "\n",
              "  <div class=\"colab-df-container\">\n",
              "    <button class=\"colab-df-convert\" onclick=\"convertToInteractive('df-c0fb1f1e-4711-4b29-88a7-06530f538ce9')\"\n",
              "            title=\"Convert this dataframe to an interactive table.\"\n",
              "            style=\"display:none;\">\n",
              "\n",
              "  <svg xmlns=\"http://www.w3.org/2000/svg\" height=\"24px\" viewBox=\"0 -960 960 960\">\n",
              "    <path d=\"M120-120v-720h720v720H120Zm60-500h600v-160H180v160Zm220 220h160v-160H400v160Zm0 220h160v-160H400v160ZM180-400h160v-160H180v160Zm440 0h160v-160H620v160ZM180-180h160v-160H180v160Zm440 0h160v-160H620v160Z\"/>\n",
              "  </svg>\n",
              "    </button>\n",
              "\n",
              "  <style>\n",
              "    .colab-df-container {\n",
              "      display:flex;\n",
              "      gap: 12px;\n",
              "    }\n",
              "\n",
              "    .colab-df-convert {\n",
              "      background-color: #E8F0FE;\n",
              "      border: none;\n",
              "      border-radius: 50%;\n",
              "      cursor: pointer;\n",
              "      display: none;\n",
              "      fill: #1967D2;\n",
              "      height: 32px;\n",
              "      padding: 0 0 0 0;\n",
              "      width: 32px;\n",
              "    }\n",
              "\n",
              "    .colab-df-convert:hover {\n",
              "      background-color: #E2EBFA;\n",
              "      box-shadow: 0px 1px 2px rgba(60, 64, 67, 0.3), 0px 1px 3px 1px rgba(60, 64, 67, 0.15);\n",
              "      fill: #174EA6;\n",
              "    }\n",
              "\n",
              "    .colab-df-buttons div {\n",
              "      margin-bottom: 4px;\n",
              "    }\n",
              "\n",
              "    [theme=dark] .colab-df-convert {\n",
              "      background-color: #3B4455;\n",
              "      fill: #D2E3FC;\n",
              "    }\n",
              "\n",
              "    [theme=dark] .colab-df-convert:hover {\n",
              "      background-color: #434B5C;\n",
              "      box-shadow: 0px 1px 3px 1px rgba(0, 0, 0, 0.15);\n",
              "      filter: drop-shadow(0px 1px 2px rgba(0, 0, 0, 0.3));\n",
              "      fill: #FFFFFF;\n",
              "    }\n",
              "  </style>\n",
              "\n",
              "    <script>\n",
              "      const buttonEl =\n",
              "        document.querySelector('#df-c0fb1f1e-4711-4b29-88a7-06530f538ce9 button.colab-df-convert');\n",
              "      buttonEl.style.display =\n",
              "        google.colab.kernel.accessAllowed ? 'block' : 'none';\n",
              "\n",
              "      async function convertToInteractive(key) {\n",
              "        const element = document.querySelector('#df-c0fb1f1e-4711-4b29-88a7-06530f538ce9');\n",
              "        const dataTable =\n",
              "          await google.colab.kernel.invokeFunction('convertToInteractive',\n",
              "                                                    [key], {});\n",
              "        if (!dataTable) return;\n",
              "\n",
              "        const docLinkHtml = 'Like what you see? Visit the ' +\n",
              "          '<a target=\"_blank\" href=https://colab.research.google.com/notebooks/data_table.ipynb>data table notebook</a>'\n",
              "          + ' to learn more about interactive tables.';\n",
              "        element.innerHTML = '';\n",
              "        dataTable['output_type'] = 'display_data';\n",
              "        await google.colab.output.renderOutput(dataTable, element);\n",
              "        const docLink = document.createElement('div');\n",
              "        docLink.innerHTML = docLinkHtml;\n",
              "        element.appendChild(docLink);\n",
              "      }\n",
              "    </script>\n",
              "  </div>\n",
              "\n",
              "\n",
              "    <div id=\"df-c6e9f7a7-671c-4cbc-aeef-33a653920af6\">\n",
              "      <button class=\"colab-df-quickchart\" onclick=\"quickchart('df-c6e9f7a7-671c-4cbc-aeef-33a653920af6')\"\n",
              "                title=\"Suggest charts\"\n",
              "                style=\"display:none;\">\n",
              "\n",
              "<svg xmlns=\"http://www.w3.org/2000/svg\" height=\"24px\"viewBox=\"0 0 24 24\"\n",
              "     width=\"24px\">\n",
              "    <g>\n",
              "        <path d=\"M19 3H5c-1.1 0-2 .9-2 2v14c0 1.1.9 2 2 2h14c1.1 0 2-.9 2-2V5c0-1.1-.9-2-2-2zM9 17H7v-7h2v7zm4 0h-2V7h2v10zm4 0h-2v-4h2v4z\"/>\n",
              "    </g>\n",
              "</svg>\n",
              "      </button>\n",
              "\n",
              "<style>\n",
              "  .colab-df-quickchart {\n",
              "      --bg-color: #E8F0FE;\n",
              "      --fill-color: #1967D2;\n",
              "      --hover-bg-color: #E2EBFA;\n",
              "      --hover-fill-color: #174EA6;\n",
              "      --disabled-fill-color: #AAA;\n",
              "      --disabled-bg-color: #DDD;\n",
              "  }\n",
              "\n",
              "  [theme=dark] .colab-df-quickchart {\n",
              "      --bg-color: #3B4455;\n",
              "      --fill-color: #D2E3FC;\n",
              "      --hover-bg-color: #434B5C;\n",
              "      --hover-fill-color: #FFFFFF;\n",
              "      --disabled-bg-color: #3B4455;\n",
              "      --disabled-fill-color: #666;\n",
              "  }\n",
              "\n",
              "  .colab-df-quickchart {\n",
              "    background-color: var(--bg-color);\n",
              "    border: none;\n",
              "    border-radius: 50%;\n",
              "    cursor: pointer;\n",
              "    display: none;\n",
              "    fill: var(--fill-color);\n",
              "    height: 32px;\n",
              "    padding: 0;\n",
              "    width: 32px;\n",
              "  }\n",
              "\n",
              "  .colab-df-quickchart:hover {\n",
              "    background-color: var(--hover-bg-color);\n",
              "    box-shadow: 0 1px 2px rgba(60, 64, 67, 0.3), 0 1px 3px 1px rgba(60, 64, 67, 0.15);\n",
              "    fill: var(--button-hover-fill-color);\n",
              "  }\n",
              "\n",
              "  .colab-df-quickchart-complete:disabled,\n",
              "  .colab-df-quickchart-complete:disabled:hover {\n",
              "    background-color: var(--disabled-bg-color);\n",
              "    fill: var(--disabled-fill-color);\n",
              "    box-shadow: none;\n",
              "  }\n",
              "\n",
              "  .colab-df-spinner {\n",
              "    border: 2px solid var(--fill-color);\n",
              "    border-color: transparent;\n",
              "    border-bottom-color: var(--fill-color);\n",
              "    animation:\n",
              "      spin 1s steps(1) infinite;\n",
              "  }\n",
              "\n",
              "  @keyframes spin {\n",
              "    0% {\n",
              "      border-color: transparent;\n",
              "      border-bottom-color: var(--fill-color);\n",
              "      border-left-color: var(--fill-color);\n",
              "    }\n",
              "    20% {\n",
              "      border-color: transparent;\n",
              "      border-left-color: var(--fill-color);\n",
              "      border-top-color: var(--fill-color);\n",
              "    }\n",
              "    30% {\n",
              "      border-color: transparent;\n",
              "      border-left-color: var(--fill-color);\n",
              "      border-top-color: var(--fill-color);\n",
              "      border-right-color: var(--fill-color);\n",
              "    }\n",
              "    40% {\n",
              "      border-color: transparent;\n",
              "      border-right-color: var(--fill-color);\n",
              "      border-top-color: var(--fill-color);\n",
              "    }\n",
              "    60% {\n",
              "      border-color: transparent;\n",
              "      border-right-color: var(--fill-color);\n",
              "    }\n",
              "    80% {\n",
              "      border-color: transparent;\n",
              "      border-right-color: var(--fill-color);\n",
              "      border-bottom-color: var(--fill-color);\n",
              "    }\n",
              "    90% {\n",
              "      border-color: transparent;\n",
              "      border-bottom-color: var(--fill-color);\n",
              "    }\n",
              "  }\n",
              "</style>\n",
              "\n",
              "      <script>\n",
              "        async function quickchart(key) {\n",
              "          const quickchartButtonEl =\n",
              "            document.querySelector('#' + key + ' button');\n",
              "          quickchartButtonEl.disabled = true;  // To prevent multiple clicks.\n",
              "          quickchartButtonEl.classList.add('colab-df-spinner');\n",
              "          try {\n",
              "            const charts = await google.colab.kernel.invokeFunction(\n",
              "                'suggestCharts', [key], {});\n",
              "          } catch (error) {\n",
              "            console.error('Error during call to suggestCharts:', error);\n",
              "          }\n",
              "          quickchartButtonEl.classList.remove('colab-df-spinner');\n",
              "          quickchartButtonEl.classList.add('colab-df-quickchart-complete');\n",
              "        }\n",
              "        (() => {\n",
              "          let quickchartButtonEl =\n",
              "            document.querySelector('#df-c6e9f7a7-671c-4cbc-aeef-33a653920af6 button');\n",
              "          quickchartButtonEl.style.display =\n",
              "            google.colab.kernel.accessAllowed ? 'block' : 'none';\n",
              "        })();\n",
              "      </script>\n",
              "    </div>\n",
              "\n",
              "    </div>\n",
              "  </div>\n"
            ],
            "application/vnd.google.colaboratory.intrinsic+json": {
              "type": "dataframe",
              "repr_error": "0"
            }
          },
          "metadata": {},
          "execution_count": 115
        }
      ],
      "source": [
        "df = pd.read_csv('/content/tweets_coronavirus.csv', encoding='latin-1')\n",
        "df.sample(4)"
      ]
    },
    {
      "cell_type": "markdown",
      "metadata": {
        "id": "m2OiDog9ZBlS"
      },
      "source": [
        "Для каждого твитта указано:\n",
        "\n",
        "\n",
        "*   UserName - имя пользователя, заменено на целое число для анонимности\n",
        "*   ScreenName - отображающееся имя пользователя, заменено на целое число для анонимности\n",
        "*   Location - местоположение\n",
        "*   TweetAt - дата создания твитта\n",
        "*   OriginalTweet - текст твитта\n",
        "*   Sentiment - эмоциональная окраска твитта (целевая переменная)\n",
        "\n"
      ]
    },
    {
      "cell_type": "markdown",
      "metadata": {
        "id": "pZTMseDkhTC7"
      },
      "source": [
        "## Задание 1 Подготовка (0.5 балла)"
      ]
    },
    {
      "cell_type": "markdown",
      "metadata": {
        "id": "Xx2-odn9hdAW"
      },
      "source": [
        "Целевая переменная находится в колонке `Sentiment`.  Преобразуйте ее таким образом, чтобы она стала бинарной: 1 - если у твитта положительная или очень положительная эмоциональная окраска и 0 - если отрицательная или очень отрицательная."
      ]
    },
    {
      "cell_type": "code",
      "execution_count": 116,
      "metadata": {
        "id": "ZaQKQ1zEjP15",
        "colab": {
          "base_uri": "https://localhost:8080/",
          "height": 240
        },
        "outputId": "4f89423b-90e9-465b-8f7f-3e9bf36addbc"
      },
      "outputs": [
        {
          "output_type": "execute_result",
          "data": {
            "text/plain": [
              "3554     1\n",
              "24006    1\n",
              "7430     1\n",
              "28858    0\n",
              "31630    0\n",
              "Name: Sentiment_bin, dtype: int64"
            ],
            "text/html": [
              "<div>\n",
              "<style scoped>\n",
              "    .dataframe tbody tr th:only-of-type {\n",
              "        vertical-align: middle;\n",
              "    }\n",
              "\n",
              "    .dataframe tbody tr th {\n",
              "        vertical-align: top;\n",
              "    }\n",
              "\n",
              "    .dataframe thead th {\n",
              "        text-align: right;\n",
              "    }\n",
              "</style>\n",
              "<table border=\"1\" class=\"dataframe\">\n",
              "  <thead>\n",
              "    <tr style=\"text-align: right;\">\n",
              "      <th></th>\n",
              "      <th>Sentiment_bin</th>\n",
              "    </tr>\n",
              "  </thead>\n",
              "  <tbody>\n",
              "    <tr>\n",
              "      <th>3554</th>\n",
              "      <td>1</td>\n",
              "    </tr>\n",
              "    <tr>\n",
              "      <th>24006</th>\n",
              "      <td>1</td>\n",
              "    </tr>\n",
              "    <tr>\n",
              "      <th>7430</th>\n",
              "      <td>1</td>\n",
              "    </tr>\n",
              "    <tr>\n",
              "      <th>28858</th>\n",
              "      <td>0</td>\n",
              "    </tr>\n",
              "    <tr>\n",
              "      <th>31630</th>\n",
              "      <td>0</td>\n",
              "    </tr>\n",
              "  </tbody>\n",
              "</table>\n",
              "</div><br><label><b>dtype:</b> int64</label>"
            ]
          },
          "metadata": {},
          "execution_count": 116
        }
      ],
      "source": [
        "df['Sentiment_bin'] = np.where(df['Sentiment'].isin(['Positive', 'Extremely Positive']), 1, 0)\n",
        "# -- YOUR CODE HERE --\n",
        "df['Sentiment_bin'].sample(5)"
      ]
    },
    {
      "cell_type": "markdown",
      "metadata": {
        "id": "pGq1FxJ-kBo5"
      },
      "source": [
        "Сбалансированы ли классы?"
      ]
    },
    {
      "cell_type": "code",
      "execution_count": 117,
      "metadata": {
        "id": "a7gdNtxckK5V",
        "colab": {
          "base_uri": "https://localhost:8080/",
          "height": 178
        },
        "outputId": "05102426-dc1f-4c80-dc37-7c2ead3afba8"
      },
      "outputs": [
        {
          "output_type": "execute_result",
          "data": {
            "text/plain": [
              "Sentiment_bin\n",
              "1    18046\n",
              "0    15398\n",
              "Name: count, dtype: int64"
            ],
            "text/html": [
              "<div>\n",
              "<style scoped>\n",
              "    .dataframe tbody tr th:only-of-type {\n",
              "        vertical-align: middle;\n",
              "    }\n",
              "\n",
              "    .dataframe tbody tr th {\n",
              "        vertical-align: top;\n",
              "    }\n",
              "\n",
              "    .dataframe thead th {\n",
              "        text-align: right;\n",
              "    }\n",
              "</style>\n",
              "<table border=\"1\" class=\"dataframe\">\n",
              "  <thead>\n",
              "    <tr style=\"text-align: right;\">\n",
              "      <th></th>\n",
              "      <th>count</th>\n",
              "    </tr>\n",
              "    <tr>\n",
              "      <th>Sentiment_bin</th>\n",
              "      <th></th>\n",
              "    </tr>\n",
              "  </thead>\n",
              "  <tbody>\n",
              "    <tr>\n",
              "      <th>1</th>\n",
              "      <td>18046</td>\n",
              "    </tr>\n",
              "    <tr>\n",
              "      <th>0</th>\n",
              "      <td>15398</td>\n",
              "    </tr>\n",
              "  </tbody>\n",
              "</table>\n",
              "</div><br><label><b>dtype:</b> int64</label>"
            ]
          },
          "metadata": {},
          "execution_count": 117
        }
      ],
      "source": [
        "# -- YOUR CODE HERE --\n",
        "c = df['Sentiment_bin'].value_counts()\n",
        "c"
      ]
    },
    {
      "cell_type": "markdown",
      "metadata": {
        "id": "Ng8BCelMkWb0"
      },
      "source": [
        "единиц больше, но не критично, дисбаланс совсем небольшой, допустимый, так что можно считать, что классы не идеально, но все-таки сбалансированы"
      ]
    },
    {
      "cell_type": "markdown",
      "metadata": {
        "id": "qmSIBSsLk5Zz"
      },
      "source": [
        "Выведете на экран информацию о пропусках в данных. Если пропуски присутствуют заполните их строкой 'Unknown'."
      ]
    },
    {
      "cell_type": "code",
      "execution_count": 118,
      "metadata": {
        "id": "UhUVRkR5kxa7",
        "colab": {
          "base_uri": "https://localhost:8080/",
          "height": 303
        },
        "outputId": "cbaa0a3b-9cb9-4668-9da0-2f45974b5c7c"
      },
      "outputs": [
        {
          "output_type": "execute_result",
          "data": {
            "text/plain": [
              "UserName            0\n",
              "ScreenName          0\n",
              "Location         7049\n",
              "TweetAt             0\n",
              "OriginalTweet       0\n",
              "Sentiment           0\n",
              "Sentiment_bin       0\n",
              "dtype: int64"
            ],
            "text/html": [
              "<div>\n",
              "<style scoped>\n",
              "    .dataframe tbody tr th:only-of-type {\n",
              "        vertical-align: middle;\n",
              "    }\n",
              "\n",
              "    .dataframe tbody tr th {\n",
              "        vertical-align: top;\n",
              "    }\n",
              "\n",
              "    .dataframe thead th {\n",
              "        text-align: right;\n",
              "    }\n",
              "</style>\n",
              "<table border=\"1\" class=\"dataframe\">\n",
              "  <thead>\n",
              "    <tr style=\"text-align: right;\">\n",
              "      <th></th>\n",
              "      <th>0</th>\n",
              "    </tr>\n",
              "  </thead>\n",
              "  <tbody>\n",
              "    <tr>\n",
              "      <th>UserName</th>\n",
              "      <td>0</td>\n",
              "    </tr>\n",
              "    <tr>\n",
              "      <th>ScreenName</th>\n",
              "      <td>0</td>\n",
              "    </tr>\n",
              "    <tr>\n",
              "      <th>Location</th>\n",
              "      <td>7049</td>\n",
              "    </tr>\n",
              "    <tr>\n",
              "      <th>TweetAt</th>\n",
              "      <td>0</td>\n",
              "    </tr>\n",
              "    <tr>\n",
              "      <th>OriginalTweet</th>\n",
              "      <td>0</td>\n",
              "    </tr>\n",
              "    <tr>\n",
              "      <th>Sentiment</th>\n",
              "      <td>0</td>\n",
              "    </tr>\n",
              "    <tr>\n",
              "      <th>Sentiment_bin</th>\n",
              "      <td>0</td>\n",
              "    </tr>\n",
              "  </tbody>\n",
              "</table>\n",
              "</div><br><label><b>dtype:</b> int64</label>"
            ]
          },
          "metadata": {},
          "execution_count": 118
        }
      ],
      "source": [
        "df.isnull().sum()\n",
        "# -- YOUR CODE HERE --"
      ]
    },
    {
      "cell_type": "code",
      "source": [
        "df = df.fillna(\"Unknown\")\n",
        "df.isnull().sum()"
      ],
      "metadata": {
        "colab": {
          "base_uri": "https://localhost:8080/",
          "height": 303
        },
        "id": "LJTeMfxzNk8A",
        "outputId": "e645336f-2ab4-45d0-ab19-02a24a754d00"
      },
      "execution_count": 119,
      "outputs": [
        {
          "output_type": "execute_result",
          "data": {
            "text/plain": [
              "UserName         0\n",
              "ScreenName       0\n",
              "Location         0\n",
              "TweetAt          0\n",
              "OriginalTweet    0\n",
              "Sentiment        0\n",
              "Sentiment_bin    0\n",
              "dtype: int64"
            ],
            "text/html": [
              "<div>\n",
              "<style scoped>\n",
              "    .dataframe tbody tr th:only-of-type {\n",
              "        vertical-align: middle;\n",
              "    }\n",
              "\n",
              "    .dataframe tbody tr th {\n",
              "        vertical-align: top;\n",
              "    }\n",
              "\n",
              "    .dataframe thead th {\n",
              "        text-align: right;\n",
              "    }\n",
              "</style>\n",
              "<table border=\"1\" class=\"dataframe\">\n",
              "  <thead>\n",
              "    <tr style=\"text-align: right;\">\n",
              "      <th></th>\n",
              "      <th>0</th>\n",
              "    </tr>\n",
              "  </thead>\n",
              "  <tbody>\n",
              "    <tr>\n",
              "      <th>UserName</th>\n",
              "      <td>0</td>\n",
              "    </tr>\n",
              "    <tr>\n",
              "      <th>ScreenName</th>\n",
              "      <td>0</td>\n",
              "    </tr>\n",
              "    <tr>\n",
              "      <th>Location</th>\n",
              "      <td>0</td>\n",
              "    </tr>\n",
              "    <tr>\n",
              "      <th>TweetAt</th>\n",
              "      <td>0</td>\n",
              "    </tr>\n",
              "    <tr>\n",
              "      <th>OriginalTweet</th>\n",
              "      <td>0</td>\n",
              "    </tr>\n",
              "    <tr>\n",
              "      <th>Sentiment</th>\n",
              "      <td>0</td>\n",
              "    </tr>\n",
              "    <tr>\n",
              "      <th>Sentiment_bin</th>\n",
              "      <td>0</td>\n",
              "    </tr>\n",
              "  </tbody>\n",
              "</table>\n",
              "</div><br><label><b>dtype:</b> int64</label>"
            ]
          },
          "metadata": {},
          "execution_count": 119
        }
      ]
    },
    {
      "cell_type": "markdown",
      "metadata": {
        "id": "1tzt27tfjUpq"
      },
      "source": [
        "Разделите данные на обучающие и тестовые в соотношении 7 : 3 и укажите `random_state=0`"
      ]
    },
    {
      "cell_type": "code",
      "execution_count": 120,
      "metadata": {
        "id": "xSLOA9tIj9Z6"
      },
      "outputs": [],
      "source": [
        "from sklearn.model_selection import train_test_split\n",
        "\n",
        "train, test = train_test_split(df, test_size = 0.3, random_state=0)# -- YOUR CODE HERE --"
      ]
    },
    {
      "cell_type": "markdown",
      "metadata": {
        "id": "J9RrPUsJlL60"
      },
      "source": [
        "## Задание 2 Токенизация (3 балла)"
      ]
    },
    {
      "cell_type": "markdown",
      "metadata": {
        "id": "2Dz_b7Xopc_R"
      },
      "source": [
        "Постройте словарь на основе обучающей выборки и посчитайте количество встреч каждого токена с использованием самой простой токенизации - деления текстов по пробельным символам и приведения токенов в нижний регистр."
      ]
    },
    {
      "cell_type": "code",
      "execution_count": 121,
      "metadata": {
        "id": "SFr67WOJphny",
        "colab": {
          "base_uri": "https://localhost:8080/"
        },
        "outputId": "2ecedb52-6f56-4724-8a4d-bf0a7c575438"
      },
      "outputs": [
        {
          "output_type": "execute_result",
          "data": {
            "text/plain": [
              "{'the': 26815,\n",
              " 'to': 23373,\n",
              " 'and': 14684,\n",
              " 'of': 13012,\n",
              " 'a': 11737,\n",
              " 'in': 11198,\n",
              " 'for': 8566,\n",
              " '#coronavirus': 8223,\n",
              " 'is': 7383,\n",
              " 'are': 7050,\n",
              " 'you': 5467,\n",
              " 'on': 5452,\n",
              " 'i': 5340,\n",
              " 'at': 4642,\n",
              " 'this': 4581,\n",
              " 'with': 4063,\n",
              " 'prices': 3891,\n",
              " 'food': 3820,\n",
              " 'we': 3787,\n",
              " 'have': 3770,\n",
              " 'that': 3741,\n",
              " 'as': 3694,\n",
              " 'be': 3570,\n",
              " 'grocery': 3469,\n",
              " 'supermarket': 3288,\n",
              " 'people': 3175,\n",
              " 'covid-19': 3173,\n",
              " 'store': 3155,\n",
              " 'it': 3150,\n",
              " 'from': 3045,\n",
              " 'all': 2808,\n",
              " 'your': 2784,\n",
              " 'will': 2726,\n",
              " 'not': 2714,\n",
              " '#covid19': 2471,\n",
              " 'our': 2460,\n",
              " 'my': 2445,\n",
              " '&amp;': 2314,\n",
              " 'they': 2309,\n",
              " 'has': 2304,\n",
              " 'consumer': 2245,\n",
              " 'by': 2236,\n",
              " 'or': 2234,\n",
              " 'can': 2202,\n",
              " 'but': 2159,\n",
              " 'if': 2142,\n",
              " '19': 2111,\n",
              " 'out': 2026,\n",
              " 'more': 2008,\n",
              " 'up': 1987,\n",
              " 'their': 1972,\n",
              " 'during': 1908,\n",
              " 'no': 1898,\n",
              " 'how': 1850,\n",
              " 'so': 1837,\n",
              " 'covid': 1769,\n",
              " 'get': 1759,\n",
              " 'about': 1726,\n",
              " 'who': 1670,\n",
              " '#covid_19': 1660,\n",
              " 'online': 1648,\n",
              " 'shopping': 1621,\n",
              " 'like': 1550,\n",
              " 'need': 1549,\n",
              " 'what': 1541,\n",
              " 'just': 1540,\n",
              " 'panic': 1495,\n",
              " '-': 1429,\n",
              " 'an': 1417,\n",
              " 'was': 1384,\n",
              " 'hand': 1382,\n",
              " 'do': 1353,\n",
              " 'now': 1349,\n",
              " 'demand': 1345,\n",
              " 'when': 1343,\n",
              " 'some': 1320,\n",
              " '?': 1320,\n",
              " 'help': 1282,\n",
              " 'us': 1247,\n",
              " 'go': 1245,\n",
              " 'workers': 1242,\n",
              " 'there': 1219,\n",
              " 'going': 1141,\n",
              " 'time': 1136,\n",
              " 's': 1108,\n",
              " 'been': 1081,\n",
              " 'one': 1074,\n",
              " 'sanitizer': 1064,\n",
              " 'stock': 1063,\n",
              " 'please': 1061,\n",
              " 'due': 1059,\n",
              " 'pandemic': 1026,\n",
              " 'coronavirus': 970,\n",
              " 'home': 959,\n",
              " 'these': 922,\n",
              " 'me': 920,\n",
              " '#covid2019': 915,\n",
              " 'buying': 911,\n",
              " 'because': 902,\n",
              " 'oil': 900,\n",
              " 'stay': 895,\n",
              " 'than': 891,\n",
              " 'other': 890,\n",
              " 'after': 886,\n",
              " 'new': 885,\n",
              " 'should': 875,\n",
              " 'amp': 859,\n",
              " 'keep': 857,\n",
              " 'only': 851,\n",
              " 'being': 827,\n",
              " 'toilet': 824,\n",
              " 'local': 821,\n",
              " 'work': 819,\n",
              " 'many': 819,\n",
              " 'make': 811,\n",
              " 'them': 799,\n",
              " 'those': 789,\n",
              " 'over': 786,\n",
              " 'still': 763,\n",
              " 'see': 756,\n",
              " 'buy': 748,\n",
              " 'would': 730,\n",
              " 'stop': 730,\n",
              " 'crisis': 713,\n",
              " 'shelves': 709,\n",
              " 'take': 701,\n",
              " '#toiletpaper': 691,\n",
              " 'via': 687,\n",
              " 'delivery': 686,\n",
              " 'even': 682,\n",
              " 'its': 674,\n",
              " 'here': 669,\n",
              " 'into': 666,\n",
              " 'supply': 662,\n",
              " 'had': 660,\n",
              " 'why': 654,\n",
              " 'stores': 648,\n",
              " 't': 648,\n",
              " 'know': 641,\n",
              " 'could': 640,\n",
              " 'while': 638,\n",
              " 'also': 635,\n",
              " 'any': 624,\n",
              " 'social': 615,\n",
              " 'retail': 610,\n",
              " 'down': 609,\n",
              " 'thank': 604,\n",
              " 'everyone': 600,\n",
              " 'working': 594,\n",
              " 'paper': 587,\n",
              " 'good': 586,\n",
              " '2': 582,\n",
              " 'price': 581,\n",
              " 'use': 572,\n",
              " \"it's\": 571,\n",
              " 'were': 566,\n",
              " 'amid': 556,\n",
              " \"don't\": 551,\n",
              " 'most': 548,\n",
              " 'think': 545,\n",
              " 'health': 540,\n",
              " 'he': 533,\n",
              " 'may': 525,\n",
              " 'today': 524,\n",
              " 'staff': 521,\n",
              " 'day': 521,\n",
              " 'spread': 514,\n",
              " 'every': 509,\n",
              " 'doing': 508,\n",
              " 'which': 504,\n",
              " 'essential': 496,\n",
              " 'safe': 487,\n",
              " 'want': 487,\n",
              " 'way': 484,\n",
              " '??': 482,\n",
              " 'much': 482,\n",
              " 'virus': 480,\n",
              " 'support': 477,\n",
              " 'first': 475,\n",
              " 'off': 472,\n",
              " 'shop': 471,\n",
              " 'government': 468,\n",
              " 'free': 467,\n",
              " 'covid-19.': 465,\n",
              " 'market': 463,\n",
              " 'last': 462,\n",
              " 'itã\\x82â\\x92s': 459,\n",
              " 'where': 456,\n",
              " 'right': 455,\n",
              " '.': 454,\n",
              " 'customers': 451,\n",
              " 'business': 445,\n",
              " 'global': 444,\n",
              " 'masks': 442,\n",
              " 'items': 439,\n",
              " 'impact': 438,\n",
              " 'world': 437,\n",
              " 'then': 435,\n",
              " 'before': 433,\n",
              " 'find': 431,\n",
              " 'back': 430,\n",
              " 'products': 427,\n",
              " '#socialdistancing': 427,\n",
              " 'through': 427,\n",
              " 'am': 424,\n",
              " '#coronacrisis': 423,\n",
              " 'read': 420,\n",
              " 'very': 418,\n",
              " '#covid?19': 418,\n",
              " 'employees': 415,\n",
              " 'getting': 415,\n",
              " 'iã\\x82â\\x92m': 414,\n",
              " 'donã\\x82â\\x92t': 414,\n",
              " 'outbreak': 412,\n",
              " 'great': 409,\n",
              " 'high': 408,\n",
              " 'empty': 407,\n",
              " 'got': 407,\n",
              " 'low': 407,\n",
              " 'making': 404,\n",
              " 'face': 402,\n",
              " 'care': 401,\n",
              " 'really': 400,\n",
              " 'risk': 397,\n",
              " \"i'm\": 397,\n",
              " 'week': 396,\n",
              " 'companies': 393,\n",
              " 'around': 391,\n",
              " 'supplies': 387,\n",
              " 'said': 386,\n",
              " 'public': 386,\n",
              " 'went': 378,\n",
              " 'her': 377,\n",
              " 'his': 377,\n",
              " 'times': 372,\n",
              " 'says': 369,\n",
              " 'since': 369,\n",
              " '3': 364,\n",
              " 'gas': 361,\n",
              " 'she': 361,\n",
              " 'say': 350,\n",
              " 'taking': 349,\n",
              " 'store.': 348,\n",
              " 'increase': 348,\n",
              " 'against': 347,\n",
              " 'next': 347,\n",
              " 'well': 346,\n",
              " 'look': 344,\n",
              " 'put': 342,\n",
              " 'businesses': 342,\n",
              " '1': 340,\n",
              " 'protect': 340,\n",
              " 'order': 337,\n",
              " 'enough': 337,\n",
              " 'things': 336,\n",
              " 'prices.': 332,\n",
              " 'two': 331,\n",
              " 'mask': 330,\n",
              " 'supermarkets': 330,\n",
              " 'fight': 330,\n",
              " 'pay': 329,\n",
              " 're': 328,\n",
              " 'lockdown': 326,\n",
              " 'days': 325,\n",
              " 'long': 323,\n",
              " 'anyone': 322,\n",
              " 'country': 321,\n",
              " 'across': 318,\n",
              " 'increased': 317,\n",
              " 'few': 317,\n",
              " 'money': 315,\n",
              " 'best': 315,\n",
              " 'weeks': 312,\n",
              " 'full': 312,\n",
              " 'covid-19,': 311,\n",
              " 'must': 309,\n",
              " 'trying': 307,\n",
              " 'consumers': 307,\n",
              " 'service': 305,\n",
              " 'distancing': 305,\n",
              " 'news': 304,\n",
              " 'medical': 303,\n",
              " 'hands': 303,\n",
              " 'never': 303,\n",
              " 'check': 302,\n",
              " 'without': 301,\n",
              " 'come': 300,\n",
              " 'others': 300,\n",
              " 'big': 296,\n",
              " 'economic': 292,\n",
              " 'line': 291,\n",
              " 'sure': 288,\n",
              " 'too': 288,\n",
              " 'open': 286,\n",
              " \"can't\": 286,\n",
              " 'available': 285,\n",
              " 'give': 284,\n",
              " 'workers,': 280,\n",
              " 'uk': 280,\n",
              " 'everything': 280,\n",
              " 'shops': 279,\n",
              " '|': 279,\n",
              " 'response': 278,\n",
              " 'let': 278,\n",
              " 'pandemic.': 277,\n",
              " 'chain': 277,\n",
              " 'needs': 276,\n",
              " 'call': 276,\n",
              " 'thanks': 275,\n",
              " 'vulnerable': 275,\n",
              " 'using': 272,\n",
              " 'such': 269,\n",
              " 'report': 268,\n",
              " 'avoid': 268,\n",
              " 'better': 267,\n",
              " 'emergency': 267,\n",
              " 'important': 266,\n",
              " 'already': 266,\n",
              " 'hope': 265,\n",
              " 'march': 265,\n",
              " 'family': 263,\n",
              " 'hours': 263,\n",
              " 'services': 263,\n",
              " 'lot': 262,\n",
              " 'made': 261,\n",
              " 'continue': 261,\n",
              " 'small': 260,\n",
              " 'each': 260,\n",
              " 'seen': 258,\n",
              " 'having': 257,\n",
              " 'hard': 256,\n",
              " 'same': 256,\n",
              " 'thing': 256,\n",
              " 'share': 254,\n",
              " 'don': 251,\n",
              " 'state': 250,\n",
              " 'close': 250,\n",
              " 'able': 249,\n",
              " 'per': 246,\n",
              " 'another': 246,\n",
              " 'elderly': 246,\n",
              " 'did': 245,\n",
              " '#coronaviruspandemic': 245,\n",
              " 'banks': 244,\n",
              " 'economy': 244,\n",
              " 'life': 244,\n",
              " 'goods': 243,\n",
              " 'community': 243,\n",
              " 'canã\\x82â\\x92t': 243,\n",
              " 'job': 242,\n",
              " 'does': 241,\n",
              " 'under': 239,\n",
              " 'looking': 238,\n",
              " 'live': 236,\n",
              " 'drop': 235,\n",
              " 'own': 234,\n",
              " 'industry': 234,\n",
              " 'financial': 233,\n",
              " '#pandemic': 232,\n",
              " 'front': 231,\n",
              " 'positive': 231,\n",
              " 'house': 231,\n",
              " '#stayhome': 229,\n",
              " 'leave': 229,\n",
              " 'trump': 228,\n",
              " '#coronavirus.': 228,\n",
              " '4': 227,\n",
              " 'someone': 226,\n",
              " 'current': 226,\n",
              " 'part': 225,\n",
              " 'selling': 222,\n",
              " 'least': 222,\n",
              " 'learn': 220,\n",
              " '#coronavirusoutbreak': 218,\n",
              " 'scams': 217,\n",
              " 'production': 217,\n",
              " 'gloves': 216,\n",
              " 'coming': 216,\n",
              " 'real': 216,\n",
              " 'told': 216,\n",
              " 'cases': 215,\n",
              " 'u': 214,\n",
              " 'hit': 214,\n",
              " 'seeing': 214,\n",
              " 'healthcare': 214,\n",
              " 'safety': 214,\n",
              " 'cut': 214,\n",
              " 'food.': 213,\n",
              " 'helping': 213,\n",
              " 'wash': 212,\n",
              " '10': 212,\n",
              " 'less': 212,\n",
              " 'markets': 211,\n",
              " '2020': 211,\n",
              " 'shoppers': 211,\n",
              " 'bank': 211,\n",
              " 'left': 211,\n",
              " 'might': 210,\n",
              " 'feel': 210,\n",
              " 'hoarding': 210,\n",
              " 'self': 210,\n",
              " '#corona': 208,\n",
              " 'little': 208,\n",
              " 'person': 207,\n",
              " 'retailers': 207,\n",
              " 'meet': 207,\n",
              " 'sales': 206,\n",
              " 'keeping': 206,\n",
              " 'key': 206,\n",
              " 'latest': 206,\n",
              " 'post': 205,\n",
              " 'supermarket.': 204,\n",
              " 'it.': 204,\n",
              " 'something': 203,\n",
              " 'together': 203,\n",
              " 'measures': 202,\n",
              " 'closed': 202,\n",
              " 'start': 201,\n",
              " 'away': 201,\n",
              " 'now.': 201,\n",
              " 'place': 200,\n",
              " '#lockdown': 199,\n",
              " 'store,': 196,\n",
              " 'information': 196,\n",
              " '#supermarket': 196,\n",
              " 'end': 196,\n",
              " 'access': 195,\n",
              " 'tips': 194,\n",
              " 'water': 194,\n",
              " 'situation': 194,\n",
              " '#stayathome': 194,\n",
              " 'join': 193,\n",
              " '#covid': 192,\n",
              " 'daily': 192,\n",
              " '#covid-19': 191,\n",
              " 'until': 190,\n",
              " 'wearing': 190,\n",
              " 'remember': 190,\n",
              " 'groceries': 190,\n",
              " '#stayhomesavelives': 189,\n",
              " 'else': 189,\n",
              " 'nothing': 188,\n",
              " '#panicbuying': 188,\n",
              " 'drivers': 188,\n",
              " 'prices,': 187,\n",
              " 'man': 187,\n",
              " 'done': 187,\n",
              " ',': 187,\n",
              " '#stophoarding': 186,\n",
              " 'run': 186,\n",
              " 'food,': 186,\n",
              " 'thought': 184,\n",
              " 'data': 184,\n",
              " '#quarantine': 184,\n",
              " 'sick': 183,\n",
              " '???': 182,\n",
              " 'number': 182,\n",
              " 'company': 182,\n",
              " 'year': 182,\n",
              " 'protection': 182,\n",
              " 'wear': 182,\n",
              " 'running': 182,\n",
              " 'police': 181,\n",
              " '#retail': 180,\n",
              " 'contact': 180,\n",
              " 'ever': 179,\n",
              " '5': 179,\n",
              " 'used': 178,\n",
              " \"you're\": 176,\n",
              " 'try': 176,\n",
              " 'jobs': 176,\n",
              " 'affected': 175,\n",
              " 'change': 174,\n",
              " 'bad': 174,\n",
              " 'china': 174,\n",
              " 'lower': 174,\n",
              " 'advantage': 174,\n",
              " 'special': 174,\n",
              " 'fall': 173,\n",
              " 'including': 173,\n",
              " 'ensure': 173,\n",
              " 'list': 173,\n",
              " 'spending': 171,\n",
              " 'likely': 170,\n",
              " 'found': 169,\n",
              " 'provide': 169,\n",
              " 'families': 169,\n",
              " 'corona': 168,\n",
              " \"we're\": 168,\n",
              " 'related': 167,\n",
              " 'putting': 166,\n",
              " 'reports': 166,\n",
              " 'nhs': 164,\n",
              " 'always': 164,\n",
              " 'bought': 163,\n",
              " 'shortage': 163,\n",
              " 'april': 163,\n",
              " 'crisis.': 162,\n",
              " 'offering': 162,\n",
              " 'fresh': 162,\n",
              " 'old': 162,\n",
              " 'higher': 162,\n",
              " 'relief': 161,\n",
              " 'especially': 161,\n",
              " 'visit': 161,\n",
              " 'supermarket,': 161,\n",
              " 'soap': 161,\n",
              " 'worker': 159,\n",
              " 'lives': 159,\n",
              " 'tested': 159,\n",
              " 'americans': 159,\n",
              " '#food': 158,\n",
              " 'time.': 158,\n",
              " \"i've\": 157,\n",
              " 'critical': 156,\n",
              " 'caused': 155,\n",
              " 'media': 155,\n",
              " '20': 154,\n",
              " 'behavior': 154,\n",
              " 'yet': 154,\n",
              " 'quarantine': 154,\n",
              " 'normal': 153,\n",
              " 'watch': 153,\n",
              " 'saying': 153,\n",
              " 'save': 153,\n",
              " 'between': 152,\n",
              " 'once': 152,\n",
              " 'prevent': 152,\n",
              " '#covid19uk': 152,\n",
              " 'major': 152,\n",
              " 'video': 152,\n",
              " 'almost': 151,\n",
              " 'outside': 151,\n",
              " '#coronavirusupdate': 151,\n",
              " 'understand': 151,\n",
              " 'amazon': 151,\n",
              " '@realdonaldtrump': 151,\n",
              " 'selfish': 151,\n",
              " 'remain': 150,\n",
              " 'saw': 150,\n",
              " 'youã\\x82â\\x92re': 150,\n",
              " 'paid': 150,\n",
              " 'drive': 149,\n",
              " 'actually': 149,\n",
              " 'reduce': 149,\n",
              " 'following': 149,\n",
              " 'farmers': 149,\n",
              " 'far': 148,\n",
              " 'needed': 148,\n",
              " 'lines': 148,\n",
              " 'm': 148,\n",
              " 'works': 148,\n",
              " 'huge': 148,\n",
              " 'despite': 147,\n",
              " 'sell': 147,\n",
              " 'govt': 147,\n",
              " 'instead': 147,\n",
              " 'yourself': 147,\n",
              " 'rise': 147,\n",
              " 'essentials': 147,\n",
              " 'produce': 147,\n",
              " 'cannot': 147,\n",
              " 'chains': 147,\n",
              " 'shortages': 146,\n",
              " 'love': 146,\n",
              " '6': 146,\n",
              " 'struggling': 146,\n",
              " 'credit': 146,\n",
              " 'set': 146,\n",
              " 'years': 146,\n",
              " '...': 146,\n",
              " 'top': 145,\n",
              " 'home.': 145,\n",
              " 'morning': 144,\n",
              " 'follow': 144,\n",
              " 'result': 144,\n",
              " 'possible': 143,\n",
              " 'ã\\x82â\\x96': 143,\n",
              " 'lost': 143,\n",
              " 'fear': 143,\n",
              " 'city': 143,\n",
              " 'ã\\x82â\\x97': 141,\n",
              " 'given': 140,\n",
              " 'soon': 140,\n",
              " 'difficult': 140,\n",
              " '#staysafe': 140,\n",
              " 'tell': 139,\n",
              " 'pandemic,': 139,\n",
              " 'stocked': 138,\n",
              " 'facing': 138,\n",
              " 'deal': 138,\n",
              " 'sanitizers': 138,\n",
              " 'become': 138,\n",
              " 'whole': 138,\n",
              " 'bring': 137,\n",
              " 'iã\\x82â\\x92ve': 137,\n",
              " 'alcohol': 136,\n",
              " 'shut': 136,\n",
              " 'roll': 136,\n",
              " 'travel': 135,\n",
              " 'show': 135,\n",
              " 've': 135,\n",
              " 'here:': 134,\n",
              " 'staying': 134,\n",
              " 'covid-19:': 134,\n",
              " 'sanitizer,': 134,\n",
              " 'months': 134,\n",
              " '#oil': 133,\n",
              " 'ask': 133,\n",
              " 'changes': 133,\n",
              " 'advice': 133,\n",
              " 'system': 132,\n",
              " 'friends': 132,\n",
              " 'maybe': 132,\n",
              " 'die': 132,\n",
              " 'again': 132,\n",
              " 'anything': 132,\n",
              " 'restaurants': 131,\n",
              " 'announced': 131,\n",
              " 'means': 130,\n",
              " 'today.': 130,\n",
              " 'brands': 130,\n",
              " '#stoppanicbuying': 130,\n",
              " 'million': 130,\n",
              " 'extra': 130,\n",
              " 'heroes': 129,\n",
              " 'customer': 129,\n",
              " 'u.s.': 129,\n",
              " 'weã\\x82â\\x92re': 129,\n",
              " 'milk': 129,\n",
              " 'outbreak.': 129,\n",
              " 'taken': 129,\n",
              " 'giving': 128,\n",
              " 'cause': 128,\n",
              " 'war': 128,\n",
              " 'testing': 128,\n",
              " 'fucking': 128,\n",
              " 'orders': 128,\n",
              " 'worried': 127,\n",
              " '#handsanitizer': 126,\n",
              " 'woman': 126,\n",
              " 'test': 126,\n",
              " 'india': 126,\n",
              " 'month': 125,\n",
              " 'area': 125,\n",
              " 'early': 125,\n",
              " 'eat': 125,\n",
              " 'fuel': 124,\n",
              " 'kind': 124,\n",
              " 'currently': 124,\n",
              " 'cash': 124,\n",
              " 'limit': 124,\n",
              " 'security': 124,\n",
              " 'below': 124,\n",
              " 'different': 123,\n",
              " 'case': 123,\n",
              " 'national': 123,\n",
              " 'etc': 123,\n",
              " 'personal': 123,\n",
              " 'three': 122,\n",
              " 'story': 122,\n",
              " 'doctors': 122,\n",
              " 'consider': 122,\n",
              " 'plenty': 122,\n",
              " 'asked': 122,\n",
              " 'healthy': 122,\n",
              " 'gone': 122,\n",
              " 'allow': 122,\n",
              " 'recent': 121,\n",
              " 'meat': 121,\n",
              " 'increasing': 121,\n",
              " 'surge': 121,\n",
              " 'kids': 121,\n",
              " 'shit': 121,\n",
              " 'further': 121,\n",
              " \"that's\": 121,\n",
              " '#shopping': 121,\n",
              " 'sold': 121,\n",
              " 'hospital': 120,\n",
              " 'distance': 120,\n",
              " 'ppl': 120,\n",
              " 'control': 120,\n",
              " 'spreading': 120,\n",
              " 'fighting': 120,\n",
              " 'clean': 120,\n",
              " 'donate': 120,\n",
              " 'basic': 119,\n",
              " 'asking': 119,\n",
              " 'fears': 119,\n",
              " 'him': 119,\n",
              " 'cost': 118,\n",
              " 'survive': 118,\n",
              " 'mean': 118,\n",
              " 'drug': 118,\n",
              " 'both': 118,\n",
              " 'gonna': 118,\n",
              " 'etc.': 117,\n",
              " 'you.': 117,\n",
              " 'point': 117,\n",
              " 'died': 117,\n",
              " 'gouging': 116,\n",
              " 'providing': 116,\n",
              " 'crazy': 116,\n",
              " 'purchase': 116,\n",
              " 'based': 116,\n",
              " 'car': 116,\n",
              " 'themselves': 116,\n",
              " 'cleaning': 115,\n",
              " 'waiting': 115,\n",
              " 'goes': 115,\n",
              " 'pharmacy': 115,\n",
              " 'shift': 115,\n",
              " 'employee': 114,\n",
              " 'makes': 114,\n",
              " 'falling': 114,\n",
              " 'countries': 114,\n",
              " 'bit': 114,\n",
              " '#sanitizer': 113,\n",
              " 'wait': 113,\n",
              " \"won't\": 113,\n",
              " 'people.': 113,\n",
              " 'ways': 113,\n",
              " '#coronavirus,': 113,\n",
              " 'yesterday': 113,\n",
              " '100': 113,\n",
              " 'out.': 113,\n",
              " 'past': 113,\n",
              " 'scammers': 113,\n",
              " 'isolation': 112,\n",
              " 'fuck': 112,\n",
              " '#quarantinelife': 112,\n",
              " 'them.': 112,\n",
              " 'kill': 112,\n",
              " 'shows': 112,\n",
              " 'article': 112,\n",
              " 'send': 112,\n",
              " 'hour': 111,\n",
              " 'forced': 111,\n",
              " '@': 111,\n",
              " 'offer': 111,\n",
              " 'confidence': 110,\n",
              " 'crude': 110,\n",
              " 'pick': 109,\n",
              " 'product': 109,\n",
              " '+': 109,\n",
              " 'trip': 109,\n",
              " 'moment': 108,\n",
              " 'large': 108,\n",
              " 'believe': 108,\n",
              " 'ready': 107,\n",
              " '#coronavirusuk': 107,\n",
              " 'update': 107,\n",
              " \"there's\": 107,\n",
              " 'hear': 106,\n",
              " 'states': 106,\n",
              " 'afford': 106,\n",
              " 'members': 106,\n",
              " 'stuff': 106,\n",
              " 'sign': 106,\n",
              " 'plan': 106,\n",
              " 'website': 106,\n",
              " 'according': 105,\n",
              " 'worth': 105,\n",
              " 'poor': 105,\n",
              " 'truck': 105,\n",
              " '/': 105,\n",
              " '@tesco': 105,\n",
              " 'near': 105,\n",
              " 'probably': 105,\n",
              " 'fast': 104,\n",
              " 'longer': 104,\n",
              " 'sector': 104,\n",
              " 'raise': 104,\n",
              " 'president': 104,\n",
              " 'comes': 103,\n",
              " '!': 103,\n",
              " 'household': 103,\n",
              " 'started': 103,\n",
              " 'demand.': 103,\n",
              " 'energy': 103,\n",
              " 'action': 103,\n",
              " 'calling': 102,\n",
              " 'shopping.': 102,\n",
              " 'school': 102,\n",
              " 'effects': 102,\n",
              " 'deliver': 102,\n",
              " 'info': 102,\n",
              " 'closing': 102,\n",
              " 'act': 102,\n",
              " 'happy': 101,\n",
              " 'allowed': 101,\n",
              " 'idea': 101,\n",
              " 'staff,': 101,\n",
              " 'sanitizer.': 101,\n",
              " 'trade': 100,\n",
              " 'limited': 100,\n",
              " \"they're\": 100,\n",
              " 'starting': 100,\n",
              " 'group': 100,\n",
              " 'living': 100,\n",
              " 'rather': 100,\n",
              " 'called': 99,\n",
              " 'concerns': 99,\n",
              " 'looks': 99,\n",
              " 'federal': 99,\n",
              " 'came': 99,\n",
              " 'nice': 99,\n",
              " '7': 99,\n",
              " \"here's\": 99,\n",
              " 'ones': 99,\n",
              " 'changing': 99,\n",
              " 'reduced': 98,\n",
              " 'lots': 98,\n",
              " 'amount': 98,\n",
              " 'thinking': 98,\n",
              " 'friend': 98,\n",
              " 'home,': 98,\n",
              " \"let's\": 97,\n",
              " 'clear': 97,\n",
              " 'seems': 97,\n",
              " 'chinese': 97,\n",
              " 'nurses': 97,\n",
              " 'now,': 97,\n",
              " 'buyers': 97,\n",
              " 'human': 97,\n",
              " 'ceo': 97,\n",
              " 'biggest': 97,\n",
              " 'team': 97,\n",
              " 'experts': 97,\n",
              " 'gets': 96,\n",
              " 'dear': 96,\n",
              " 'inflated': 96,\n",
              " 'expect': 96,\n",
              " 'short': 96,\n",
              " 'america': 96,\n",
              " 'ã\\x82â\\x95': 96,\n",
              " 'seriously': 96,\n",
              " 'took': 95,\n",
              " 'period': 95,\n",
              " '000': 95,\n",
              " 'office': 94,\n",
              " \"doesn't\": 94,\n",
              " 'general': 94,\n",
              " 'rolls': 94,\n",
              " 'deliveries': 94,\n",
              " 'up.': 94,\n",
              " 'forget': 94,\n",
              " 'certain': 94,\n",
              " 'american': 93,\n",
              " 'email': 93,\n",
              " 'strong': 93,\n",
              " 'guys': 93,\n",
              " 'thatã\\x82â\\x92s': 93,\n",
              " 'worse': 93,\n",
              " 'washing': 93,\n",
              " 'massive': 93,\n",
              " 'several': 93,\n",
              " 'folks': 93,\n",
              " 'workers.': 92,\n",
              " '#consumer': 92,\n",
              " 'nation': 92,\n",
              " 'continues': 92,\n",
              " 'expected': 92,\n",
              " 'russia': 92,\n",
              " 'pm': 92,\n",
              " 'interesting': 92,\n",
              " 'this.': 92,\n",
              " 'serious': 91,\n",
              " 'amazing': 91,\n",
              " 'restrictions': 91,\n",
              " '8': 91,\n",
              " 'paper,': 91,\n",
              " 'queue': 91,\n",
              " 'hiking': 91,\n",
              " '????': 91,\n",
              " 'finally': 91,\n",
              " 'anxiety': 90,\n",
              " 'message': 90,\n",
              " 'link': 90,\n",
              " 'n': 90,\n",
              " 'bottle': 90,\n",
              " 'wake': 90,\n",
              " 'among': 90,\n",
              " 'god': 90,\n",
              " 'regarding': 90,\n",
              " 'thereã\\x82â\\x92s': 89,\n",
              " 'reason': 89,\n",
              " 'wrong': 89,\n",
              " 'collapse': 89,\n",
              " 'hey': 89,\n",
              " 'pretty': 89,\n",
              " 'infected': 89,\n",
              " 'calls': 89,\n",
              " 'issues': 89,\n",
              " 'more:': 89,\n",
              " 'rs': 89,\n",
              " 'shame': 89,\n",
              " 'frontline': 89,\n",
              " 'slots': 89,\n",
              " 'unprecedented': 89,\n",
              " 'behind': 88,\n",
              " 'bread': 88,\n",
              " 'restaurant': 88,\n",
              " 'potential': 88,\n",
              " 'nurse': 88,\n",
              " 'worst': 88,\n",
              " \"isn't\": 88,\n",
              " 'inside': 87,\n",
              " 'walk': 87,\n",
              " '15': 87,\n",
              " 'south': 87,\n",
              " 'masks,': 87,\n",
              " 'policy': 87,\n",
              " 'it,': 87,\n",
              " 'crisis,': 87,\n",
              " 'couple': 87,\n",
              " 'ago': 87,\n",
              " 'single': 87,\n",
              " 'talk': 87,\n",
              " 'yes': 86,\n",
              " 'death': 86,\n",
              " \"didn't\": 86,\n",
              " 'equipment': 86,\n",
              " 'wipes': 86,\n",
              " 'drivers,': 86,\n",
              " 'opening': 86,\n",
              " 'light': 85,\n",
              " 'seniors': 85,\n",
              " 'takes': 85,\n",
              " 'sale': 85,\n",
              " 'online.': 85,\n",
              " 'pasta': 85,\n",
              " 'showing': 85,\n",
              " 'lack': 85,\n",
              " 'citizens': 84,\n",
              " '@sainsburys': 84,\n",
              " 'resources': 84,\n",
              " 'w': 84,\n",
              " 'waste': 84,\n",
              " 'growing': 84,\n",
              " 'donating': 84,\n",
              " 'efforts': 84,\n",
              " 'donations': 84,\n",
              " 'appreciate': 84,\n",
              " 'quick': 84,\n",
              " 'older': 84,\n",
              " '50': 83,\n",
              " \"what's\": 83,\n",
              " 'giant': 83,\n",
              " 'future': 83,\n",
              " 'phone': 83,\n",
              " 'beginning': 83,\n",
              " 'worry': 82,\n",
              " 'spend': 82,\n",
              " 'bags': 82,\n",
              " 'half': 82,\n",
              " 'step': 82,\n",
              " 'places': 82,\n",
              " 'shopping,': 82,\n",
              " 'move': 81,\n",
              " 'telling': 81,\n",
              " '#grocery': 81,\n",
              " 'issue': 81,\n",
              " 'residents': 81,\n",
              " 'dont': 81,\n",
              " 'hospitals': 81,\n",
              " 'supporting': 81,\n",
              " 'theyã\\x82â\\x92re': 81,\n",
              " 'county': 81,\n",
              " 'absolutely': 81,\n",
              " 'walmart': 81,\n",
              " 'listen': 81,\n",
              " 'wanted': 81,\n",
              " 'card': 80,\n",
              " 'tomorrow': 80,\n",
              " 'feed': 80,\n",
              " 'practice': 80,\n",
              " ':': 80,\n",
              " 'saudi': 80,\n",
              " 'today,': 80,\n",
              " 'create': 80,\n",
              " 'necessary': 80,\n",
              " 'value': 79,\n",
              " 'thousands': 79,\n",
              " 'force': 79,\n",
              " 'rising': 79,\n",
              " 'changed': 79,\n",
              " '#ecommerce': 79,\n",
              " 'exposed': 79,\n",
              " 'insights': 79,\n",
              " 'common': 79,\n",
              " 'pack': 79,\n",
              " '30': 79,\n",
              " 'cure': 79,\n",
              " '#coronavirususa': 79,\n",
              " 'shelves.': 79,\n",
              " 'temporarily': 78,\n",
              " 'canada': 78,\n",
              " 'behaviour': 78,\n",
              " 'society': 78,\n",
              " ...}"
            ]
          },
          "metadata": {},
          "execution_count": 121
        }
      ],
      "source": [
        "# -- YOUR CODE HERE --\n",
        "text_train = \" \".join(train['OriginalTweet'])\n",
        "tokens = text_train.lower().split()\n",
        "tokens_count = pd.Series(tokens).value_counts().to_dict()\n",
        "tokens_count"
      ]
    },
    {
      "cell_type": "markdown",
      "metadata": {
        "id": "Pe0h2Jqkpnao"
      },
      "source": [
        "Какой размер словаря получился?"
      ]
    },
    {
      "cell_type": "code",
      "execution_count": 122,
      "metadata": {
        "id": "umyENA7EpokD",
        "colab": {
          "base_uri": "https://localhost:8080/"
        },
        "outputId": "b63195dd-b829-4dd1-e007-437c24f0ddb7"
      },
      "outputs": [
        {
          "output_type": "execute_result",
          "data": {
            "text/plain": [
              "79755"
            ]
          },
          "metadata": {},
          "execution_count": 122
        }
      ],
      "source": [
        "len(tokens_count)# -- YOUR CODE HERE --"
      ]
    },
    {
      "cell_type": "markdown",
      "metadata": {
        "id": "0d2G1Z-Qpqkd"
      },
      "source": [
        "Выведите 10 самых популярных токенов с количеством встреч каждого из них. Объясните, почему именно эти токены в топе."
      ]
    },
    {
      "cell_type": "code",
      "execution_count": 123,
      "metadata": {
        "id": "Impi32a_pssg"
      },
      "outputs": [],
      "source": [
        "# -- YOUR CODE HERE --\n",
        "top_10 = sorted(tokens_count.items(), key=lambda x: x[1], reverse=True)[:10]"
      ]
    },
    {
      "cell_type": "code",
      "source": [
        "top_10"
      ],
      "metadata": {
        "colab": {
          "base_uri": "https://localhost:8080/"
        },
        "id": "TBxOxi9NWm1A",
        "outputId": "1f38ca8e-1c42-40cb-deb2-c51cb97fe9e2"
      },
      "execution_count": 124,
      "outputs": [
        {
          "output_type": "execute_result",
          "data": {
            "text/plain": [
              "[('the', 26815),\n",
              " ('to', 23373),\n",
              " ('and', 14684),\n",
              " ('of', 13012),\n",
              " ('a', 11737),\n",
              " ('in', 11198),\n",
              " ('for', 8566),\n",
              " ('#coronavirus', 8223),\n",
              " ('is', 7383),\n",
              " ('are', 7050)]"
            ]
          },
          "metadata": {},
          "execution_count": 124
        }
      ]
    },
    {
      "cell_type": "markdown",
      "source": [
        "в основном вывелись все стоп-слова (\"the\", \"to\", \"and\", ...), что логично, так как стоп-слова- это те, которые встречаются очень часто и практически в каждом тексте и не несут особого смысла, также вывелось слово \"#coronavirus\", так как оно является смысловым и самым важным в тестке, по нему можнл понять о чем текст\n"
      ],
      "metadata": {
        "id": "thYO4XNnWrWF"
      }
    },
    {
      "cell_type": "markdown",
      "metadata": {
        "id": "T7DTQDkWsVYp"
      },
      "source": [
        "Удалите стоп-слова из словаря и выведите новый топ-10 токенов (и количество встреч) по популярности.  Что можно сказать  о нем?"
      ]
    },
    {
      "cell_type": "code",
      "execution_count": 125,
      "metadata": {
        "id": "8csSAdgTsnFx",
        "colab": {
          "base_uri": "https://localhost:8080/"
        },
        "outputId": "05fbb064-3405-4f61-d7bc-a5e4cb1a0c64"
      },
      "outputs": [
        {
          "output_type": "stream",
          "name": "stderr",
          "text": [
            "[nltk_data] Downloading package stopwords to /root/nltk_data...\n",
            "[nltk_data]   Package stopwords is already up-to-date!\n"
          ]
        },
        {
          "output_type": "execute_result",
          "data": {
            "text/plain": [
              "{'#coronavirus': 8223,\n",
              " 'prices': 3891,\n",
              " 'food': 3820,\n",
              " 'grocery': 3469,\n",
              " 'supermarket': 3288,\n",
              " 'people': 3175,\n",
              " 'covid-19': 3173,\n",
              " 'store': 3155,\n",
              " '#covid19': 2471,\n",
              " '&amp;': 2314}"
            ]
          },
          "metadata": {},
          "execution_count": 125
        }
      ],
      "source": [
        "import nltk\n",
        "from nltk.corpus import stopwords\n",
        "nltk.download('stopwords')\n",
        "new_tokens = list(pd.Series(tokens_count)[~pd.Series(tokens_count).index.isin(stopwords.words('english'))].items())\n",
        "new_top = dict(sorted(new_tokens, key=lambda x: x[1], reverse=True)[:10])\n",
        "# -- YOUR CODE HERE --\n",
        "new_top"
      ]
    },
    {
      "cell_type": "markdown",
      "metadata": {
        "id": "LZH0x2Lzs-Dh"
      },
      "source": [
        "**Ответ:** новый топ-10 без стоп-слов вывод слова, отображающие тематику текста, дает нам понять что в нем говорится о ковиде ('#coronavirus', 'covid-19', '#covid19') и о продуктах, супермаркетах и ценах в период пандемии (food, grocery, supermarket, store, prices). также слово 'people' встречается довольно часто, так как текст о маштабной социальной проблеме, котора может коснуться каждого"
      ]
    },
    {
      "cell_type": "markdown",
      "metadata": {
        "id": "TKSGRyI-uor0"
      },
      "source": [
        "Также выведите 20 самых непопулярных слов (если самых непопулярных слов больше, выведите любые 20 из них) Почему эти токены непопулярны, требуется ли как-то дополнительно работать с ними?"
      ]
    },
    {
      "cell_type": "code",
      "execution_count": 126,
      "metadata": {
        "id": "moArbwfvun9t",
        "colab": {
          "base_uri": "https://localhost:8080/"
        },
        "outputId": "78387943-247e-4f6b-cbdb-4b3789ab156d"
      },
      "outputs": [
        {
          "output_type": "execute_result",
          "data": {
            "text/plain": [
              "{'https://t.co/7j2y3rsld9': 1,\n",
              " 'https://t.co/1m881cwfuv': 1,\n",
              " 'https://t.co/2s1aljdwdd': 1,\n",
              " 'acquiring.': 1,\n",
              " 'https://t.co/pd6ual9yfi': 1,\n",
              " 'https://t.co/lw1r0rm7xs': 1,\n",
              " 'https://t.co/5cbliqzx7l': 1,\n",
              " 'now.when': 1,\n",
              " 'milion': 1,\n",
              " 'skellig': 1,\n",
              " 'coast!': 1,\n",
              " 'closer!)': 1,\n",
              " '@skelligsix18': 1,\n",
              " '#skelligcoast2kms': 1,\n",
              " 'lunchboxes!': 1,\n",
              " 'fights.': 1,\n",
              " 'through?': 1,\n",
              " 'https://t.co/rbaevqdzxk': 1,\n",
              " 'keyworker(supermarket),': 1,\n",
              " 'https://t.co/9ascqvqk0o': 1}"
            ]
          },
          "metadata": {},
          "execution_count": 126
        }
      ],
      "source": [
        "top_min =dict(sorted(new_tokens, key=lambda x: x[1], reverse=False)[:20])\n",
        "top_min"
      ]
    },
    {
      "cell_type": "markdown",
      "metadata": {
        "id": "uRp3J1gQunlR"
      },
      "source": [
        "**Ответ:**\n",
        "\n",
        "1.эти токены непопулярны, так как большенство из них это уникальные значения (ссылки или ники пользователей), также есть слова с опечатками (milion) и те, на конце которых стоят знак препинания из-за которого модель сочла, например, слово 'closer!)' отличным от 'closer' (это потому-что мы использовали команду split(), она не разделяет слова от знаков препинания, делит только по пробелам)\n",
        "2. С токенами,у которых очень редкая частота обычно не работают, так как они для текста не информативны, уникальные значения можно удалить, а знаки препинания очистить, чтоб не путать модель и улучшить качество ее работы\n",
        "\n",
        "\n",
        "\n"
      ]
    },
    {
      "cell_type": "markdown",
      "metadata": {
        "id": "wx9LQOSPzvjV"
      },
      "source": [
        "Теперь воспользуемся токенайзером получше - TweetTokenizer из библиотеки nltk. Примените его и посмотрите на топ-10 популярных слов. Чем он отличается от топа, который получался раньше? Почему?"
      ]
    },
    {
      "cell_type": "code",
      "execution_count": 127,
      "metadata": {
        "id": "2G1UkyVxzvFY",
        "colab": {
          "base_uri": "https://localhost:8080/"
        },
        "outputId": "3e8d513c-d182-4900-9f51-c1579a5a016c"
      },
      "outputs": [
        {
          "output_type": "execute_result",
          "data": {
            "text/plain": [
              "{'the': 24337,\n",
              " '.': 24108,\n",
              " 'to': 22933,\n",
              " ',': 17571,\n",
              " 'and': 14354,\n",
              " 'of': 12904,\n",
              " 'a': 11045,\n",
              " 'in': 10573,\n",
              " '?': 9524,\n",
              " 'for': 8228}"
            ]
          },
          "metadata": {},
          "execution_count": 127
        }
      ],
      "source": [
        "from nltk.tokenize import TweetTokenizer\n",
        "tw = TweetTokenizer()\n",
        "c2 = pd.Series(tw.tokenize(text_train)).value_counts()\n",
        "c2.head(10).to_dict()\n",
        "# -- YOUR CODE HERE --"
      ]
    },
    {
      "cell_type": "markdown",
      "metadata": {
        "id": "50eVUnJN1Zxl"
      },
      "source": [
        "**Ответ:** после токенайзера TweetTokenizer в топе помимо стоп-слов можно увидеть знаки препинания, поскольку токенайзер разделил их от слов и считал отдельно, и так как знаки препинания, а в частности такие как \".\", \",\", \"?\" встречаются довольно часто в любом тексте, поэтому они попали в наш топ вместе со стоп-словами"
      ]
    },
    {
      "cell_type": "markdown",
      "metadata": {
        "id": "1gqQgiMs11bs"
      },
      "source": [
        "Удалите из словаря стоп-слова и пунктуацию, посмотрите на новый топ-10 слов с количеством встреч, есть ли теперь в нем что-то не похожее на слова?"
      ]
    },
    {
      "cell_type": "code",
      "execution_count": 128,
      "metadata": {
        "id": "0yHWdFrp0Mup",
        "colab": {
          "base_uri": "https://localhost:8080/"
        },
        "outputId": "0dda6bad-34bd-4d43-e507-c96876a7fd76"
      },
      "outputs": [
        {
          "output_type": "execute_result",
          "data": {
            "text/plain": [
              "{'Â': 7415,\n",
              " '\\x82': 7311,\n",
              " '19': 7167,\n",
              " '#coronavirus': 7143,\n",
              " '\\x92': 4372,\n",
              " 'prices': 4281,\n",
              " 'COVID': 4218,\n",
              " 'food': 3795,\n",
              " 'store': 3691,\n",
              " 'supermarket': 3373}"
            ]
          },
          "metadata": {},
          "execution_count": 128
        }
      ],
      "source": [
        "from string import punctuation\n",
        "noise = stopwords.words(\"english\") + list(punctuation)\n",
        "tokens_dict = c2.to_dict()\n",
        "new_tokens_dict = {token: count for token, count in tokens_dict.items()if token.lower() not in noise}\n",
        "top_tokens_dict = dict(list(new_tokens_dict.items())[:10])\n",
        "top_tokens_dict\n",
        "# -- YOUR CODE HERE --"
      ]
    },
    {
      "cell_type": "markdown",
      "metadata": {
        "id": "8ZJqXELP_Yxy"
      },
      "source": [
        "**Ответ:** да, появились какие-то непонятные символы ('Â', '\\x82, '\\x92'), ну и '19' - часть от covid-19, отделенная при токенизации, ну и остались слова отражающие тематику текста ('prices','COVID','food','store') и хештег '#coronavirus'"
      ]
    },
    {
      "cell_type": "markdown",
      "metadata": {
        "id": "rzXjMsSB_kXB"
      },
      "source": [
        "Скорее всего в некоторых топах были неотображаемые символы или отдельные буквы не латинского алфавита. Уберем их: удалите из словаря токены из одного символа, позиция которого в таблице Unicode 128 и более (`ord(x) >= 128`)\n",
        "\n",
        "Выведите топ-10 самых популярных и топ-20 непопулярных слов. Чем полученные топы отличаются от итоговых топов, полученных при использовании токенизации по пробелам? Что теперь лучше, а что хуже?"
      ]
    },
    {
      "cell_type": "code",
      "execution_count": 129,
      "metadata": {
        "id": "1695hlkS_1-J",
        "colab": {
          "base_uri": "https://localhost:8080/"
        },
        "outputId": "e4cee1e2-c421-4d48-d639-f11bc402042c"
      },
      "outputs": [
        {
          "output_type": "execute_result",
          "data": {
            "text/plain": [
              "{'19': 7167,\n",
              " '#coronavirus': 7143,\n",
              " 'prices': 4281,\n",
              " 'COVID': 4218,\n",
              " 'food': 3795,\n",
              " 'store': 3691,\n",
              " 'supermarket': 3373,\n",
              " 'grocery': 3083,\n",
              " 'people': 3047,\n",
              " '#COVID19': 1844}"
            ]
          },
          "metadata": {},
          "execution_count": 129
        }
      ],
      "source": [
        "# -- YOUR CODE HERE --\n",
        "sorted_tokens = {token: count for token, count in new_tokens_dict.items() if not (len(token) == 1 and ord(token) >= 128)}\n",
        "new_top_10 = dict(list(sorted_tokens.items())[:10])\n",
        "new_top_20 = dict(list(sorted(sorted_tokens.items(), key=lambda x: x[1])[:20]))\n",
        "new_top_10"
      ]
    },
    {
      "cell_type": "code",
      "source": [
        "new_top_20"
      ],
      "metadata": {
        "colab": {
          "base_uri": "https://localhost:8080/"
        },
        "id": "QtgoGOEq7w_S",
        "outputId": "704324ce-9564-4b38-ac5f-f5573abc7c31"
      },
      "execution_count": 97,
      "outputs": [
        {
          "output_type": "execute_result",
          "data": {
            "text/plain": [
              "{'https://t.co/7j2Y3rSld9': 1,\n",
              " 'https://t.co/1m881CwFUv': 1,\n",
              " 'ruins': 1,\n",
              " 'now.When': 1,\n",
              " 'TELESCOPE': 1,\n",
              " 'amble': 1,\n",
              " 'Yelling': 1,\n",
              " 'https://t.co/g5q23HV8Qz': 1,\n",
              " \"CIGA's\": 1,\n",
              " '#LOVE': 1,\n",
              " 'Legends': 1,\n",
              " 'https://t.co/MjEBs1UKvC': 1,\n",
              " 'Universe': 1,\n",
              " 'Masters': 1,\n",
              " 'Crews': 1,\n",
              " 'https://t.co/d9bdaqhsC6': 1,\n",
              " 'https://t.co/Mrx9h61ffJ': 1,\n",
              " \"years'-supplies\": 1,\n",
              " 'https://t.co/8Ts1Ja4AAC': 1,\n",
              " 'lunchboxes': 1}"
            ]
          },
          "metadata": {},
          "execution_count": 97
        }
      ]
    },
    {
      "cell_type": "markdown",
      "source": [
        "полученные топы лучше тех, в которых была применина токенизация по пробелам тем, что в них коректнее отсортированы слова, так как учтены и те, после которых идет пунктуация (ток-ция по пробелам определяла их как разные) и удален мусор и символы (при доп фильтрации), также учтена специфика твитов (смайлики и тд)\n",
        "\n",
        "Единственный момент, где эта токенизация работает нам в минус, это то что выводит число 19 отдельно от ковид"
      ],
      "metadata": {
        "id": "ATsnZjXuBHIQ"
      }
    },
    {
      "cell_type": "markdown",
      "metadata": {
        "id": "KzjHAKIlDvc6"
      },
      "source": [
        "**Ответ:** # -- YOUR ANSWER HERE --"
      ]
    },
    {
      "cell_type": "markdown",
      "metadata": {
        "id": "EcDf9_6HB2zm"
      },
      "source": [
        "Выведите топ-10 популярных хештегов (токены, первые символы которых - #) с количеством встреч. Что можно сказать о них?"
      ]
    },
    {
      "cell_type": "code",
      "execution_count": 130,
      "metadata": {
        "id": "zk4fygCUBw3l",
        "colab": {
          "base_uri": "https://localhost:8080/"
        },
        "outputId": "2ecf7e57-d39d-4e83-846c-c2d33d5cb813"
      },
      "outputs": [
        {
          "output_type": "execute_result",
          "data": {
            "text/plain": [
              "{'#coronavirus': 7143,\n",
              " '#COVID19': 1844,\n",
              " '#Covid_19': 1463,\n",
              " '#Coronavirus': 1281,\n",
              " '#COVID2019': 927,\n",
              " '#toiletpaper': 657,\n",
              " '#covid19': 568,\n",
              " '#COVID': 542,\n",
              " '#CoronaCrisis': 426,\n",
              " '#CoronaVirus': 351}"
            ]
          },
          "metadata": {},
          "execution_count": 130
        }
      ],
      "source": [
        "# -- YOUR CODE HERE --\n",
        "hashtags = {token: count for token, count in tokens_dict.items() if token.startswith('#')}\n",
        "dict(sorted(hashtags.items(), key=lambda x: x[1], reverse=True)[:10])"
      ]
    },
    {
      "cell_type": "markdown",
      "source": [
        "ну они все отображают тематику текста (коронавирус, ковид и тд), и видимо люди еще в панике что могут остаться без туалетной бумаги, так как ее тогда все скупали сильно (высказывают свое недовольство)"
      ],
      "metadata": {
        "id": "sxyaBgsRF2k6"
      }
    },
    {
      "cell_type": "markdown",
      "metadata": {
        "id": "LLYBg7caD5GA"
      },
      "source": [
        "То же самое проделайте для ссылок на сайт https://t.co Сравнима ли популярность ссылок с популярностью хештегов? Будет ли информация о ссылке на конкретную страницу полезна?"
      ]
    },
    {
      "cell_type": "code",
      "execution_count": 131,
      "metadata": {
        "id": "MXbm1oeaCK9S",
        "colab": {
          "base_uri": "https://localhost:8080/"
        },
        "outputId": "afa5b1ad-ded2-495e-84bb-22da0a13236d"
      },
      "outputs": [
        {
          "output_type": "execute_result",
          "data": {
            "text/plain": [
              "{'https://t.co/oXA7SWtoNd': 5,\n",
              " 'https://t.co/gP3EusapL8': 4,\n",
              " 'https://t.co/zjNRx6dKKN': 3,\n",
              " 'https://t.co/G63RP042HO': 3,\n",
              " 'https://t.co/CATKegAyOY': 3,\n",
              " 'https://t.co/kuwIpF1KQW': 3,\n",
              " 'https://t.co/WrLHYzIzAA': 3,\n",
              " 'https://t.co/WuiEEfSNOj': 3,\n",
              " 'https://t.co/AZIqCdgrNn': 3,\n",
              " 'https://t.co/3GBBDpdjat': 3}"
            ]
          },
          "metadata": {},
          "execution_count": 131
        }
      ],
      "source": [
        "# -- YOUR CODE HERE --\n",
        "links = {token: count for token, count in tokens_dict.items() if token.startswith('https://t.co')}\n",
        "dict(sorted(links.items(), key=lambda x: x[1], reverse=True)[:10])"
      ]
    },
    {
      "cell_type": "markdown",
      "metadata": {
        "id": "at6lRYZ8A07N"
      },
      "source": [
        "**Ответ:** Хештеги отражают обобщённые темы, поэтому они повторяются намного чаще, в то время как ссылки совпадают давольно редко (на этом примере максимум 5 раз), но при этом инфа о ссылке на конкретную страницу тоже может быть полезна для большего понимания темы и пороблемы текста, если ты например собираешься по ним переходить и анализировать, но в большенстве случаев их лучше удалить, так как для модели важна обобщенная лексика а не какие-то редкие ссылки, которые могут только добавить шума"
      ]
    },
    {
      "cell_type": "markdown",
      "metadata": {
        "id": "IOGdUU1kBU1D"
      },
      "source": [
        "Используем опыт предыдущих экспериментов и напишем собственный токенайзер, улучшив TweetTokenizer. Функция tokenize должна:\n",
        "\n",
        "\n",
        "\n",
        "*   Привести текст в нижний регистр\n",
        "*   Применить TweetTokenizer для  выделения токенов\n",
        "*   Удалить стоп-слова, пунктуацию, токены из одного символа с позицией в таблице Unicode 128 и более,  ссылки на t.co\n",
        "\n"
      ]
    },
    {
      "cell_type": "code",
      "execution_count": 132,
      "metadata": {
        "id": "ctEsB6xkFrrK"
      },
      "outputs": [],
      "source": [
        "def custom_tokenizer(text):\n",
        "  tw = TweetTokenizer()\n",
        "  new_text = tw.tokenize(text.lower())\n",
        "  tokens = [token for token in new_text if token not in noise and not (len(token) == 1 and ord(token) >= 128) and not token.startswith('https://t.co')]\n",
        "  return tokens\n"
      ]
    },
    {
      "cell_type": "code",
      "execution_count": 101,
      "metadata": {
        "colab": {
          "base_uri": "https://localhost:8080/"
        },
        "id": "XwbgtYkJGYym",
        "outputId": "f433d64f-94b4-43cc-a1fb-bd07ab523270"
      },
      "outputs": [
        {
          "output_type": "execute_result",
          "data": {
            "text/plain": [
              "['sample', 'text', '@sample_text', '#sampletext']"
            ]
          },
          "metadata": {},
          "execution_count": 101
        }
      ],
      "source": [
        "custom_tokenizer('This is sample text!!!! @Sample_text I, \\x92\\x92 https://t.co/sample  #sampletext')"
      ]
    },
    {
      "cell_type": "markdown",
      "metadata": {
        "id": "wURVABmXHk97"
      },
      "source": [
        "## Задание 3 Векторизация текстов (2 балла)"
      ]
    },
    {
      "cell_type": "markdown",
      "metadata": {
        "id": "H44iXkoHIQfN"
      },
      "source": [
        "Обучите CountVectorizer с использованием custom_tokenizer в качестве токенайзера. Как размер полученного словаря соотносится с размером изначального словаря из начала задания 2?"
      ]
    },
    {
      "cell_type": "code",
      "source": [
        "from sklearn.feature_extraction.text import CountVectorizer\n",
        "\n",
        "cv = CountVectorizer(tokenizer=custom_tokenizer, token_pattern=None)\n",
        "X = cv.fit_transform(train['OriginalTweet'])# -- YOUR CODE HERE --\n",
        "\n",
        "print(len(cv.vocabulary_))"
      ],
      "metadata": {
        "colab": {
          "base_uri": "https://localhost:8080/"
        },
        "id": "gHn_limQl3BI",
        "outputId": "1e8f07b3-e175-4829-e9fe-b5b891315b75"
      },
      "execution_count": 133,
      "outputs": [
        {
          "output_type": "stream",
          "name": "stdout",
          "text": [
            "45290\n"
          ]
        }
      ]
    },
    {
      "cell_type": "markdown",
      "metadata": {
        "id": "gsfmaSGoItUm"
      },
      "source": [
        "**Ответ:** 45290 уникальных значений при CountVectorizer и 79755 при обычной токенизации по пробелам. Так происходит потому что CountVectorizer удаляет токены длиной в 1 символ, пропускает пробелы и спецсимвол, а также не учитывает пунктуацию и числа, в отличии от токенизации по пробелам, которая собирает весь мусор, не разделяет слова от знаков препинания и считает их уникальным значением ( например, 'covid!' и 'covid' будут считаться разными словами), а также не отфильтровывает всякий бред по типу 'Â', '\\x92', '\\x80'"
      ]
    },
    {
      "cell_type": "markdown",
      "metadata": {
        "id": "lm6UHNmqKZT0"
      },
      "source": [
        "Посмотрим на какой-нибудь конкретный твитт:"
      ]
    },
    {
      "cell_type": "code",
      "execution_count": 134,
      "metadata": {
        "id": "aJVjjfqOJh8m",
        "colab": {
          "base_uri": "https://localhost:8080/"
        },
        "outputId": "99c846ab-8810-4d8a-a706-b670c73d866e"
      },
      "outputs": [
        {
          "output_type": "execute_result",
          "data": {
            "text/plain": [
              "('Nice one @SkyNews lets not panic but show ppl in france queueing for food!!! #CoronavirusOutbreak #COVID2019 brainless!! Ffs',\n",
              " 'Negative')"
            ]
          },
          "metadata": {},
          "execution_count": 134
        }
      ],
      "source": [
        "ind = 9023\n",
        "train.iloc[ind]['OriginalTweet'], train.iloc[ind]['Sentiment']"
      ]
    },
    {
      "cell_type": "markdown",
      "metadata": {
        "id": "PBMIHBI5KdaS"
      },
      "source": [
        "Автор твитта не доволен ситуацией с едой во Франции и текст имеет резко негативную окраску.\n",
        "\n",
        "Примените обученный CountVectorizer для векторизации данного текста, и попытайтесь определить самый важный токен и самый неважный токен (токен, компонента которого в векторе максимальна/минимальна, без учета 0). Хорошо ли они определились, почему?"
      ]
    },
    {
      "cell_type": "code",
      "execution_count": 135,
      "metadata": {
        "id": "7NcAllaEKsJj",
        "colab": {
          "base_uri": "https://localhost:8080/"
        },
        "outputId": "6e3ac8e5-d1d2-4336-cb29-f65370a19d95"
      },
      "outputs": [
        {
          "output_type": "stream",
          "name": "stdout",
          "text": [
            "#coronavirusoutbreak\n",
            "#coronavirusoutbreak\n"
          ]
        }
      ],
      "source": [
        "t = train.iloc[ind]['OriginalTweet']\n",
        "X_t = cv.transform([t])\n",
        "n = np.where(X_t.toarray()[0] > 0)[0]\n",
        "max = n[np.argmax(X_t.toarray()[0][n])]\n",
        "min = n[np.argmin(X_t.toarray()[0][n])]\n",
        "inv_vocab = {i: w for w, i in cv.vocabulary_.items()}\n",
        "print(inv_vocab[max])\n",
        "print(inv_vocab[min])"
      ]
    },
    {
      "cell_type": "markdown",
      "metadata": {
        "id": "TpEsl1k_NF4T"
      },
      "source": [
        "**Ответ:** # ну не оч(\n",
        "\n",
        "  в этой строке все токены имеют частоту 1, а np.argmax(...) и np.argmin(...) выводят первый по порядку токен, но это вовсе не означает что он самый/наименее важный"
      ]
    },
    {
      "cell_type": "markdown",
      "metadata": {
        "id": "w4DsEQpLO3J6"
      },
      "source": [
        "Теперь примените TfidfVectorizer и  определите самый важный/неважный токены. Хорошо ли определились, почему?"
      ]
    },
    {
      "cell_type": "code",
      "execution_count": 136,
      "metadata": {
        "id": "uSNzdK3ENGB3",
        "colab": {
          "base_uri": "https://localhost:8080/"
        },
        "outputId": "e64e103d-1604-499a-d44f-99ee491f29a9"
      },
      "outputs": [
        {
          "output_type": "stream",
          "name": "stdout",
          "text": [
            "brainless 0.3867641170466375\n",
            "food 0.11328893069250721\n"
          ]
        }
      ],
      "source": [
        "from sklearn.feature_extraction.text import TfidfVectorizer\n",
        "\n",
        "tfidf = TfidfVectorizer(tokenizer=custom_tokenizer, token_pattern=None)\n",
        "tfidf.fit(train['OriginalTweet'])\n",
        "X = tfidf.transform([t])\n",
        "n = np.where(X.toarray()[0] > 0)[0]\n",
        "max = n[np.argmax(X.toarray()[0][n])]\n",
        "min = n[np.argmin(X.toarray()[0][n])]\n",
        "words = tfidf.get_feature_names_out()\n",
        "print(words[max], X.toarray()[0][max])\n",
        "print(words[min], X.toarray()[0][min])"
      ]
    },
    {
      "cell_type": "markdown",
      "source": [
        "ну вот, другое дело. Сейчас определяется куда лучше, так как TF-IDF учитывает веса слов, то есть их важность конкретно для этого текста, в зависимости от того как часто это слово встречается во всех текстах"
      ],
      "metadata": {
        "id": "-8_ftGl3jtOi"
      }
    },
    {
      "cell_type": "markdown",
      "metadata": {
        "id": "LGRJPqfWSesQ"
      },
      "source": [
        "Найдите какой-нибудь положительно окрашенный твитт, где TfidfVectorizer хорошо (полезно для определения окраски) выделяет важный токен, поясните пример.\n",
        "\n",
        "*Подсказка:* явно положительные твитты можно искать при помощи положительных слов (good, great, amazing и т. д.)"
      ]
    },
    {
      "cell_type": "code",
      "execution_count": 137,
      "metadata": {
        "id": "bRbQ2CHiSuJI",
        "colab": {
          "base_uri": "https://localhost:8080/",
          "height": 115
        },
        "outputId": "6afde2f5-e4fd-4e50-c919-7a650fe09678"
      },
      "outputs": [
        {
          "output_type": "execute_result",
          "data": {
            "text/plain": [
              "       UserName  ScreenName        Location     TweetAt  \\\n",
              "28478     38738       83690  Karad Maharash  08-04-2020   \n",
              "\n",
              "                                           OriginalTweet           Sentiment  \\\n",
              "28478  Washing hands and using sanitizer is great but...  Extremely Positive   \n",
              "\n",
              "       Sentiment_bin  \n",
              "28478              1  "
            ],
            "text/html": [
              "\n",
              "  <div id=\"df-c31761ad-3f68-457a-8f49-e59e0c9e688a\" class=\"colab-df-container\">\n",
              "    <div>\n",
              "<style scoped>\n",
              "    .dataframe tbody tr th:only-of-type {\n",
              "        vertical-align: middle;\n",
              "    }\n",
              "\n",
              "    .dataframe tbody tr th {\n",
              "        vertical-align: top;\n",
              "    }\n",
              "\n",
              "    .dataframe thead th {\n",
              "        text-align: right;\n",
              "    }\n",
              "</style>\n",
              "<table border=\"1\" class=\"dataframe\">\n",
              "  <thead>\n",
              "    <tr style=\"text-align: right;\">\n",
              "      <th></th>\n",
              "      <th>UserName</th>\n",
              "      <th>ScreenName</th>\n",
              "      <th>Location</th>\n",
              "      <th>TweetAt</th>\n",
              "      <th>OriginalTweet</th>\n",
              "      <th>Sentiment</th>\n",
              "      <th>Sentiment_bin</th>\n",
              "    </tr>\n",
              "  </thead>\n",
              "  <tbody>\n",
              "    <tr>\n",
              "      <th>28478</th>\n",
              "      <td>38738</td>\n",
              "      <td>83690</td>\n",
              "      <td>Karad Maharash</td>\n",
              "      <td>08-04-2020</td>\n",
              "      <td>Washing hands and using sanitizer is great but...</td>\n",
              "      <td>Extremely Positive</td>\n",
              "      <td>1</td>\n",
              "    </tr>\n",
              "  </tbody>\n",
              "</table>\n",
              "</div>\n",
              "    <div class=\"colab-df-buttons\">\n",
              "\n",
              "  <div class=\"colab-df-container\">\n",
              "    <button class=\"colab-df-convert\" onclick=\"convertToInteractive('df-c31761ad-3f68-457a-8f49-e59e0c9e688a')\"\n",
              "            title=\"Convert this dataframe to an interactive table.\"\n",
              "            style=\"display:none;\">\n",
              "\n",
              "  <svg xmlns=\"http://www.w3.org/2000/svg\" height=\"24px\" viewBox=\"0 -960 960 960\">\n",
              "    <path d=\"M120-120v-720h720v720H120Zm60-500h600v-160H180v160Zm220 220h160v-160H400v160Zm0 220h160v-160H400v160ZM180-400h160v-160H180v160Zm440 0h160v-160H620v160ZM180-180h160v-160H180v160Zm440 0h160v-160H620v160Z\"/>\n",
              "  </svg>\n",
              "    </button>\n",
              "\n",
              "  <style>\n",
              "    .colab-df-container {\n",
              "      display:flex;\n",
              "      gap: 12px;\n",
              "    }\n",
              "\n",
              "    .colab-df-convert {\n",
              "      background-color: #E8F0FE;\n",
              "      border: none;\n",
              "      border-radius: 50%;\n",
              "      cursor: pointer;\n",
              "      display: none;\n",
              "      fill: #1967D2;\n",
              "      height: 32px;\n",
              "      padding: 0 0 0 0;\n",
              "      width: 32px;\n",
              "    }\n",
              "\n",
              "    .colab-df-convert:hover {\n",
              "      background-color: #E2EBFA;\n",
              "      box-shadow: 0px 1px 2px rgba(60, 64, 67, 0.3), 0px 1px 3px 1px rgba(60, 64, 67, 0.15);\n",
              "      fill: #174EA6;\n",
              "    }\n",
              "\n",
              "    .colab-df-buttons div {\n",
              "      margin-bottom: 4px;\n",
              "    }\n",
              "\n",
              "    [theme=dark] .colab-df-convert {\n",
              "      background-color: #3B4455;\n",
              "      fill: #D2E3FC;\n",
              "    }\n",
              "\n",
              "    [theme=dark] .colab-df-convert:hover {\n",
              "      background-color: #434B5C;\n",
              "      box-shadow: 0px 1px 3px 1px rgba(0, 0, 0, 0.15);\n",
              "      filter: drop-shadow(0px 1px 2px rgba(0, 0, 0, 0.3));\n",
              "      fill: #FFFFFF;\n",
              "    }\n",
              "  </style>\n",
              "\n",
              "    <script>\n",
              "      const buttonEl =\n",
              "        document.querySelector('#df-c31761ad-3f68-457a-8f49-e59e0c9e688a button.colab-df-convert');\n",
              "      buttonEl.style.display =\n",
              "        google.colab.kernel.accessAllowed ? 'block' : 'none';\n",
              "\n",
              "      async function convertToInteractive(key) {\n",
              "        const element = document.querySelector('#df-c31761ad-3f68-457a-8f49-e59e0c9e688a');\n",
              "        const dataTable =\n",
              "          await google.colab.kernel.invokeFunction('convertToInteractive',\n",
              "                                                    [key], {});\n",
              "        if (!dataTable) return;\n",
              "\n",
              "        const docLinkHtml = 'Like what you see? Visit the ' +\n",
              "          '<a target=\"_blank\" href=https://colab.research.google.com/notebooks/data_table.ipynb>data table notebook</a>'\n",
              "          + ' to learn more about interactive tables.';\n",
              "        element.innerHTML = '';\n",
              "        dataTable['output_type'] = 'display_data';\n",
              "        await google.colab.output.renderOutput(dataTable, element);\n",
              "        const docLink = document.createElement('div');\n",
              "        docLink.innerHTML = docLinkHtml;\n",
              "        element.appendChild(docLink);\n",
              "      }\n",
              "    </script>\n",
              "  </div>\n",
              "\n",
              "\n",
              "    </div>\n",
              "  </div>\n"
            ],
            "application/vnd.google.colaboratory.intrinsic+json": {
              "type": "dataframe",
              "repr_error": "0"
            }
          },
          "metadata": {},
          "execution_count": 137
        }
      ],
      "source": [
        "train[train['OriginalTweet'].apply(lambda x: 'good' in x or 'great' in x or 'amazing' in x or 'thank' in x or 'happy' in x or 'love' in x or 'support' in x) & (train['Sentiment_bin'] == 1)].sample(1)"
      ]
    },
    {
      "cell_type": "code",
      "source": [
        "train['OriginalTweet'][11074]"
      ],
      "metadata": {
        "id": "jSjbKPCWk87K",
        "colab": {
          "base_uri": "https://localhost:8080/",
          "height": 53
        },
        "outputId": "71e1f537-8a4a-46a7-c698-5d6363b6ebd7"
      },
      "execution_count": 138,
      "outputs": [
        {
          "output_type": "execute_result",
          "data": {
            "text/plain": [
              "'There is time of and then there local shops up the prices to make the most of 19 thank you for understanding splendid  '"
            ],
            "application/vnd.google.colaboratory.intrinsic+json": {
              "type": "string"
            }
          },
          "metadata": {},
          "execution_count": 138
        }
      ]
    },
    {
      "cell_type": "markdown",
      "source": [
        "ахах ну тут как-будто сарказм чувствуется, но для примера сойдет думаю"
      ],
      "metadata": {
        "id": "647WiaGLxuBF"
      }
    },
    {
      "cell_type": "code",
      "source": [
        "text2 = train['OriginalTweet'][11074]\n",
        "X2 = tfidf.transform([text2])\n",
        "n = np.where(X2.toarray()[0] > 0)[0]\n",
        "tokens = tfidf.get_feature_names_out()\n",
        "top_tokens = sorted([(tokens[i], X2.toarray()[0][i]) for i in n], key=lambda x: x[1], reverse=True)\n",
        "top_tokens[:5]"
      ],
      "metadata": {
        "colab": {
          "base_uri": "https://localhost:8080/"
        },
        "id": "IFt49l6-0zci",
        "outputId": "f4c95d02-5317-4528-adfb-b85d17fc896c"
      },
      "execution_count": 139,
      "outputs": [
        {
          "output_type": "execute_result",
          "data": {
            "text/plain": [
              "[('splendid', np.float64(0.59940910929501)),\n",
              " ('understanding', np.float64(0.46947845418137496)),\n",
              " ('shops', np.float64(0.31920148922313213)),\n",
              " ('thank', np.float64(0.2841327802818781)),\n",
              " ('local', np.float64(0.2648370894191772))]"
            ]
          },
          "metadata": {},
          "execution_count": 139
        }
      ]
    },
    {
      "cell_type": "markdown",
      "metadata": {
        "id": "JTv9ST2_U6NA"
      },
      "source": [
        "**Ответ:** в целом TfidfVectorizer тут работает хорошо, он выделил слова 'splendid' и 'understanding' как самые важные, и вроде так и есть, они отражают эмоциональную окраску текста (правда в тексте они несут саркастический характер, что модель конечно не может опознать), а  слова 'there', 'then' тут потому что TF-IDF работает без стоп-слов"
      ]
    },
    {
      "cell_type": "markdown",
      "metadata": {
        "id": "JVEuZm8BHms6"
      },
      "source": [
        "## Задание 4 Обучение первых моделей (1 балл)"
      ]
    },
    {
      "cell_type": "markdown",
      "metadata": {
        "id": "JADkO3sfXdOG"
      },
      "source": [
        "Примените оба векторайзера для получения матриц с признаками текстов.  Выделите целевую переменную."
      ]
    },
    {
      "cell_type": "code",
      "execution_count": 141,
      "metadata": {
        "id": "DguoiXhCX2oN",
        "colab": {
          "base_uri": "https://localhost:8080/"
        },
        "outputId": "5263e9db-8d4c-48a7-f5a5-9754640ca028"
      },
      "outputs": [
        {
          "output_type": "stream",
          "name": "stdout",
          "text": [
            "(23410, 45290)\n",
            "(23410, 45290)\n",
            "(23410,)\n"
          ]
        }
      ],
      "source": [
        "# -- YOUR CODE HERE --\n",
        "y_train = train['Sentiment_bin']\n",
        "texts = train['OriginalTweet']\n",
        "X_cv = cv.transform(texts)\n",
        "X_tfidf = tfidf.transform(texts)\n",
        "print(X_cv.shape)\n",
        "print(X_tfidf.shape)\n",
        "print(y_train.shape)"
      ]
    },
    {
      "cell_type": "markdown",
      "metadata": {
        "id": "_FX1KSOfYSx4"
      },
      "source": [
        "Обучите логистическую регрессию на векторах из обоих векторайзеров. Посчитайте долю правильных ответов на обучающих и тестовых данных. Какой векторайзер показал лучший результат? Что можно сказать о моделях?\n",
        "\n",
        "Используйте `sparse` матрицы (после векторизации), не превращайте их в `numpy.ndarray` или `pd.DataFrame` - может не хватить памяти."
      ]
    },
    {
      "cell_type": "code",
      "execution_count": 140,
      "metadata": {
        "id": "-Tb3eh8UXJ6v",
        "colab": {
          "base_uri": "https://localhost:8080/"
        },
        "outputId": "9d3a256a-eeb2-4f40-ad76-a0c85a7c5fb2"
      },
      "outputs": [
        {
          "output_type": "stream",
          "name": "stdout",
          "text": [
            "CountVectorizer train: 0.9846646732165741\n",
            "CountVectorizer test: 0.8670520231213873\n",
            "TfidfVectorizer train: 0.9224263135412217\n",
            "TfidfVectorizer test: 0.85280047837353\n"
          ]
        }
      ],
      "source": [
        "from sklearn.linear_model import LogisticRegression\n",
        "from sklearn.metrics import accuracy_score\n",
        "from sklearn.metrics import classification_report\n",
        "y_train = train['Sentiment_bin']\n",
        "y_test = test['Sentiment_bin']\n",
        "X_train_cv = cv.fit_transform(train['OriginalTweet'])\n",
        "X_test_cv = cv.transform(test['OriginalTweet'])\n",
        "X_train_tfidf = tfidf.fit_transform(train['OriginalTweet'])\n",
        "X_test_tfidf = tfidf.transform(test['OriginalTweet'])\n",
        "logreg_cv = LogisticRegression(max_iter=1000)\n",
        "logreg_tfidf = LogisticRegression(max_iter=1000)\n",
        "logreg_cv.fit(X_train_cv, y_train)\n",
        "logreg_tfidf.fit(X_train_tfidf, y_train)\n",
        "y_cv_train = logreg_cv.predict(X_train_cv)\n",
        "y_cv_test = logreg_cv.predict(X_test_cv)\n",
        "y_tfidf_train = logreg_tfidf.predict(X_train_tfidf)\n",
        "y_tfidf_test = logreg_tfidf.predict(X_test_tfidf)\n",
        "print('CountVectorizer train:', accuracy_score(y_train, y_cv_train))\n",
        "print('CountVectorizer test:', accuracy_score(y_test, y_cv_test))\n",
        "print('TfidfVectorizer train:', accuracy_score(y_train, y_tfidf_train))\n",
        "print('TfidfVectorizer test:', accuracy_score(y_test, y_tfidf_test))\n",
        "# -- YOUR CODE HERE --"
      ]
    },
    {
      "cell_type": "code",
      "source": [
        "print(classification_report(y_test, y_cv_test))"
      ],
      "metadata": {
        "colab": {
          "base_uri": "https://localhost:8080/"
        },
        "id": "gAGrNvjPwgqg",
        "outputId": "15ad0ad4-1999-4f3d-dd2b-a24539059e1f"
      },
      "execution_count": 111,
      "outputs": [
        {
          "output_type": "stream",
          "name": "stdout",
          "text": [
            "              precision    recall  f1-score   support\n",
            "\n",
            "           0       0.86      0.85      0.85      4552\n",
            "           1       0.87      0.88      0.88      5482\n",
            "\n",
            "    accuracy                           0.87     10034\n",
            "   macro avg       0.87      0.87      0.87     10034\n",
            "weighted avg       0.87      0.87      0.87     10034\n",
            "\n"
          ]
        }
      ]
    },
    {
      "cell_type": "code",
      "source": [
        "print(classification_report(y_test, y_tfidf_test))"
      ],
      "metadata": {
        "colab": {
          "base_uri": "https://localhost:8080/"
        },
        "id": "MIHg2_jgwu4r",
        "outputId": "e77ddd1c-fc26-4cf2-eaf6-c1f8e4d6b4bc"
      },
      "execution_count": 112,
      "outputs": [
        {
          "output_type": "stream",
          "name": "stdout",
          "text": [
            "              precision    recall  f1-score   support\n",
            "\n",
            "           0       0.85      0.82      0.83      4552\n",
            "           1       0.85      0.88      0.87      5482\n",
            "\n",
            "    accuracy                           0.85     10034\n",
            "   macro avg       0.85      0.85      0.85     10034\n",
            "weighted avg       0.85      0.85      0.85     10034\n",
            "\n"
          ]
        }
      ]
    },
    {
      "cell_type": "markdown",
      "metadata": {
        "id": "8y_wO7rCmv7K"
      },
      "source": [
        "**Ответ:** CountVectorizer переобучися, почти идеально подогнался под обучающую выборку и на тестовой показ падение, но несмотря на это, все же обобщает немного лучше, чем TfidfVectorizer, который кстати более устойчив к переобучению (разница между тренировочной и тестовой меньше)"
      ]
    },
    {
      "cell_type": "markdown",
      "metadata": {
        "id": "rSOR1i3mjrys"
      },
      "source": [
        "## Задание 5 Стемминг (0.5 балла)"
      ]
    },
    {
      "cell_type": "markdown",
      "metadata": {
        "id": "i6ONBWNPjuq-"
      },
      "source": [
        "Для уменьшения словаря можно использовать стемминг.\n",
        "\n",
        "Модифицируйте написанный токенайзер, добавив в него стемминг с использованием SnowballStemmer. Обучите Count- и Tfidf- векторайзеры. Как изменился размер словаря?"
      ]
    },
    {
      "cell_type": "code",
      "execution_count": 142,
      "metadata": {
        "id": "oVfA2-iMkQBb"
      },
      "outputs": [],
      "source": [
        "from nltk.stem.snowball import SnowballStemmer\n",
        "tw = TweetTokenizer()\n",
        "stemmer = SnowballStemmer(\"english\")\n",
        "def custom_stem_tokenizer(text):\n",
        "  new_text = tw.tokenize(text.lower())\n",
        "  tokens = [stemmer.stem(token) for token in new_text if token not in noise and not (len(token) == 1 and ord(token) >= 128) and not token.startswith('https://t.co')]\n",
        "  return tokens"
      ]
    },
    {
      "cell_type": "code",
      "execution_count": 29,
      "metadata": {
        "colab": {
          "base_uri": "https://localhost:8080/"
        },
        "id": "9QmrjYtqnlPd",
        "outputId": "aa3756ce-46b6-443a-f5f5-2db46a431f0e"
      },
      "outputs": [
        {
          "output_type": "execute_result",
          "data": {
            "text/plain": [
              "['sampl', 'text', '@sample_text', '#sampletext', 'ad', 'word', 'check', 'stem']"
            ]
          },
          "metadata": {},
          "execution_count": 29
        }
      ],
      "source": [
        "custom_stem_tokenizer('This is sample text!!!! @Sample_text I, \\x92\\x92 https://t.co/sample  #sampletext adding more words to check stemming')"
      ]
    },
    {
      "cell_type": "code",
      "execution_count": 143,
      "metadata": {
        "colab": {
          "base_uri": "https://localhost:8080/"
        },
        "id": "zAvUTmaplzOS",
        "outputId": "904a9411-8554-46b3-abc3-9cea11d7ce95"
      },
      "outputs": [
        {
          "output_type": "stream",
          "name": "stderr",
          "text": [
            "/usr/local/lib/python3.11/dist-packages/sklearn/feature_extraction/text.py:517: UserWarning: The parameter 'token_pattern' will not be used since 'tokenizer' is not None'\n",
            "  warnings.warn(\n"
          ]
        },
        {
          "output_type": "stream",
          "name": "stdout",
          "text": [
            "45290\n",
            "36634\n",
            "36634\n"
          ]
        }
      ],
      "source": [
        "cv = CountVectorizer(tokenizer=custom_tokenizer)\n",
        "texts = train['OriginalTweet']\n",
        "cv.fit(texts)\n",
        "cv_stem = CountVectorizer(tokenizer=custom_stem_tokenizer)\n",
        "cv_stem.fit(texts)\n",
        "tfidf_stem = TfidfVectorizer(tokenizer=custom_stem_tokenizer)\n",
        "tfidf_stem.fit(texts)\n",
        "print(len(cv.vocabulary_))\n",
        "print(len(cv_stem.vocabulary_))\n",
        "print(len(tfidf_stem.vocabulary_))"
      ]
    },
    {
      "cell_type": "markdown",
      "metadata": {
        "id": "Oyzs5TaAoHP6"
      },
      "source": [
        "**Ответ** после добавления стемминга размер словаря заметно уменьшился за счет того что стемминг приводит слова к общей форме, убирая все аффиксы  (но он не 36652 как в задание было указано 😫, я хз че так, вроде все правильно, может с файлом непорядок)"
      ]
    },
    {
      "cell_type": "markdown",
      "metadata": {
        "id": "1OkncHI8oRmd"
      },
      "source": [
        "Обучите логистическую регрессию с использованием обоих векторайзеров. Изменилось ли качество? Есть ли смысл применять стемминг?"
      ]
    },
    {
      "cell_type": "code",
      "execution_count": 144,
      "metadata": {
        "id": "ykZJPphEoZ5W",
        "colab": {
          "base_uri": "https://localhost:8080/"
        },
        "outputId": "9e24e146-a745-4573-f470-30c8cc4de357"
      },
      "outputs": [
        {
          "output_type": "stream",
          "name": "stdout",
          "text": [
            "CountVectorizer train: 0.9720205040580948\n",
            "CountVectorizer test: 0.8674506677297189\n",
            "TfidfVectorizer train: 0.9165741136266553\n",
            "TfidfVectorizer test: 0.8559896352401833\n"
          ]
        }
      ],
      "source": [
        "X_train_cv_stem = cv_stem.fit_transform(train['OriginalTweet'])\n",
        "X_test_cv_stem = cv_stem.transform(test['OriginalTweet'])\n",
        "X_train_tfidf_stem = tfidf_stem.fit_transform(train['OriginalTweet'])\n",
        "X_test_tfidf_stem = tfidf_stem.transform(test['OriginalTweet'])\n",
        "logreg_cv_stem = LogisticRegression(max_iter=1000)\n",
        "logreg_tfidf_stem = LogisticRegression(max_iter=1000)\n",
        "logreg_cv_stem.fit(X_train_cv_stem, y_train)\n",
        "logreg_tfidf_stem.fit(X_train_tfidf_stem, y_train)\n",
        "print('CountVectorizer train:', accuracy_score(y_train, logreg_cv_stem.predict(X_train_cv_stem)))\n",
        "print('CountVectorizer test:', accuracy_score(y_test, logreg_cv_stem.predict(X_test_cv_stem)))\n",
        "print('TfidfVectorizer train:', accuracy_score(y_train, logreg_tfidf_stem.predict(X_train_tfidf_stem)))\n",
        "print('TfidfVectorizer test:', accuracy_score(y_test, logreg_tfidf_stem.predict(X_test_tfidf_stem)))"
      ]
    },
    {
      "cell_type": "code",
      "source": [
        "print(classification_report(y_test, logreg_cv_stem.predict(X_test_cv_stem)))\n",
        "print(classification_report(y_test, logreg_tfidf_stem.predict(X_test_tfidf_stem)))"
      ],
      "metadata": {
        "colab": {
          "base_uri": "https://localhost:8080/"
        },
        "id": "5RwGcpJT0agw",
        "outputId": "f85395a0-e984-4f41-ed52-bf6120eaaad3"
      },
      "execution_count": 145,
      "outputs": [
        {
          "output_type": "stream",
          "name": "stdout",
          "text": [
            "              precision    recall  f1-score   support\n",
            "\n",
            "           0       0.86      0.84      0.85      4552\n",
            "           1       0.87      0.89      0.88      5482\n",
            "\n",
            "    accuracy                           0.87     10034\n",
            "   macro avg       0.87      0.87      0.87     10034\n",
            "weighted avg       0.87      0.87      0.87     10034\n",
            "\n",
            "              precision    recall  f1-score   support\n",
            "\n",
            "           0       0.86      0.82      0.84      4552\n",
            "           1       0.85      0.89      0.87      5482\n",
            "\n",
            "    accuracy                           0.86     10034\n",
            "   macro avg       0.86      0.85      0.85     10034\n",
            "weighted avg       0.86      0.86      0.86     10034\n",
            "\n"
          ]
        }
      ]
    },
    {
      "cell_type": "markdown",
      "metadata": {
        "id": "bCRlrODro0h8"
      },
      "source": [
        "**Ответ:** для CountVectorizer качество совсем немного снизилось и на трейне, и на тесте после стемминга, мб стемминг слил важные различия между словами (что показывает несильное ухудшение модели). А для TfidfVectorizer на трейне результат чуть снизился, а на тесте немного улучшился (это говорит о лёгком улучшении обобщающей способности). В целом разница и там, и там едва заметная, так что стемминг особо ниче не дал"
      ]
    },
    {
      "cell_type": "markdown",
      "metadata": {
        "id": "hYWGQNEDqLC-"
      },
      "source": [
        "## Задание  6 Работа с частотами (1.5 балла)"
      ]
    },
    {
      "cell_type": "markdown",
      "metadata": {
        "id": "8Hq-tl5mqUSn"
      },
      "source": [
        "Еще один способ уменьшить количество признаков - это использовать параметры min_df и max_df при построении векторайзера  эти параметры помогают ограничить требуемую частоту встречаемости токена в документах.\n",
        "\n",
        "По умолчанию берутся все токены, которые встретились хотя бы один раз.\n",
        "\n"
      ]
    },
    {
      "cell_type": "markdown",
      "metadata": {
        "id": "m1SiD4DE3WZ2"
      },
      "source": [
        "Подберите max_df такой, что размер словаря будет 36651 (на 1 меньше, чем было). Почему параметр получился такой большой/маленький?"
      ]
    },
    {
      "cell_type": "code",
      "source": [
        "max_df = cv.fit_transform(train['OriginalTweet']).sum(axis=0).max()\n",
        "max_df"
      ],
      "metadata": {
        "colab": {
          "base_uri": "https://localhost:8080/"
        },
        "id": "wGzukfPylLdI",
        "outputId": "b06b8eed-3536-49d6-9b3c-4b72b5d929a3"
      },
      "execution_count": 49,
      "outputs": [
        {
          "output_type": "stream",
          "name": "stderr",
          "text": [
            "/usr/local/lib/python3.11/dist-packages/sklearn/feature_extraction/text.py:517: UserWarning: The parameter 'token_pattern' will not be used since 'tokenizer' is not None'\n",
            "  warnings.warn(\n"
          ]
        },
        {
          "output_type": "execute_result",
          "data": {
            "text/plain": [
              "np.int64(8808)"
            ]
          },
          "metadata": {},
          "execution_count": 49
        }
      ]
    },
    {
      "cell_type": "code",
      "source": [
        "cv_df = CountVectorizer(tokenizer=custom_stem_tokenizer,\n",
        "                        max_df= max_df - 100\n",
        "                        ).fit(texts)\n",
        "print(len(cv_df.vocabulary_))"
      ],
      "metadata": {
        "colab": {
          "base_uri": "https://localhost:8080/"
        },
        "id": "o3YLb8PViExb",
        "outputId": "5d2a47d6-331d-448e-cefc-50930156546e"
      },
      "execution_count": 81,
      "outputs": [
        {
          "output_type": "stream",
          "name": "stderr",
          "text": [
            "/usr/local/lib/python3.11/dist-packages/sklearn/feature_extraction/text.py:517: UserWarning: The parameter 'token_pattern' will not be used since 'tokenizer' is not None'\n",
            "  warnings.warn(\n"
          ]
        },
        {
          "output_type": "stream",
          "name": "stdout",
          "text": [
            "36633\n"
          ]
        }
      ]
    },
    {
      "cell_type": "code",
      "source": [
        "logreg_cv_stem.fit(cv_df.transform(train['OriginalTweet']), y_train)\n",
        "pred_test = logreg_cv_stem.predict(cv_df.transform(test['OriginalTweet']))\n",
        "pred_train = logreg_cv_stem.predict(cv_df.transform(train['OriginalTweet']))\n",
        "print('Train:', accuracy_score(y_train, pred_train))\n",
        "print('Test:', accuracy_score(y_test, pred_test))"
      ],
      "metadata": {
        "colab": {
          "base_uri": "https://localhost:8080/"
        },
        "id": "D3p-_n895Qv7",
        "outputId": "e12c249a-0a72-419c-a76a-265bac974c4a"
      },
      "execution_count": 82,
      "outputs": [
        {
          "output_type": "stream",
          "name": "stdout",
          "text": [
            "Train: 0.9724476719350705\n",
            "Test: 0.8675503288818018\n"
          ]
        }
      ]
    },
    {
      "cell_type": "markdown",
      "source": [
        "max_df у нас получился довольно большим, так как самый частый токен встречается в тексте очень много раз"
      ],
      "metadata": {
        "id": "qlf90innmCPs"
      }
    },
    {
      "cell_type": "markdown",
      "metadata": {
        "id": "_gRIUaB1u32f"
      },
      "source": [
        "Подберите min_df (используйте дефолтное значение max_df) в CountVectorizer таким образом, чтобы размер словаря был 3700 токенов (при использовании токенайзера со стеммингом), а качество осталось таким же, как и было. Что можно сказать о результатах?"
      ]
    },
    {
      "cell_type": "code",
      "source": [
        "from sklearn.feature_extraction.text import CountVectorizer\n",
        "def find_min_df(texts, target_size):\n",
        "    low = 1\n",
        "    high = 50\n",
        "    best_min_df = None\n",
        "    best_diff = float('inf')\n",
        "    while low <= high:\n",
        "        mid = (low + high) // 2\n",
        "        cv = CountVectorizer(\n",
        "            tokenizer=custom_stem_tokenizer,\n",
        "            token_pattern=None,\n",
        "            min_df=mid\n",
        "        ).fit(texts)\n",
        "        current_size = len(cv.vocabulary_)\n",
        "        current_diff = abs(current_size - target_size)\n",
        "        if current_diff < best_diff:\n",
        "            best_diff = current_diff\n",
        "            best_min_df = mid\n",
        "        if current_size > target_size:\n",
        "            low = mid + 1\n",
        "        elif current_size < target_size:\n",
        "            high = mid - 1\n",
        "        else:\n",
        "            return mid\n",
        "    for candidate in [best_min_df - 1, best_min_df, best_min_df + 1]:\n",
        "        if candidate <= 0:\n",
        "            continue\n",
        "        cv = CountVectorizer(\n",
        "            tokenizer=custom_stem_tokenizer,\n",
        "            token_pattern=None,\n",
        "            min_df=candidate\n",
        "        ).fit(texts)\n",
        "        if len(cv.vocabulary_) == target_size:\n",
        "            return candidate\n",
        "    return best_min_df\n",
        "best_min_df"
      ],
      "metadata": {
        "colab": {
          "base_uri": "https://localhost:8080/"
        },
        "id": "IKwVurKgvXOL",
        "outputId": "a540d97e-a317-43f1-e1e8-b09dfcba4ef8"
      },
      "execution_count": 229,
      "outputs": [
        {
          "output_type": "execute_result",
          "data": {
            "text/plain": [
              "11"
            ]
          },
          "metadata": {},
          "execution_count": 229
        }
      ]
    },
    {
      "cell_type": "code",
      "execution_count": 230,
      "metadata": {
        "colab": {
          "base_uri": "https://localhost:8080/"
        },
        "id": "kSnMJkn9XmsT",
        "outputId": "46f96895-c949-4281-9be4-a9a84b053d7b"
      },
      "outputs": [
        {
          "output_type": "stream",
          "name": "stdout",
          "text": [
            "3687\n"
          ]
        }
      ],
      "source": [
        "cv_df = CountVectorizer(tokenizer=custom_stem_tokenizer,\n",
        "                        token_pattern=None,\n",
        "                        min_df= best_min_df).fit(texts)\n",
        "print(len(cv_df.vocabulary_))"
      ]
    },
    {
      "cell_type": "markdown",
      "source": [
        "это самое близкое значение к 3700 из возможных"
      ],
      "metadata": {
        "id": "j_vozF6xyc5k"
      }
    },
    {
      "cell_type": "code",
      "source": [
        "logreg_cv_stem.fit(cv_df.transform(train['OriginalTweet']), y_train)\n",
        "pred_test = logreg_cv_stem.predict(cv_df.transform(test['OriginalTweet']))\n",
        "pred_train = logreg_cv_stem.predict(cv_df.transform(train['OriginalTweet']))\n",
        "print('Train:', accuracy_score(y_train, pred_train))\n",
        "print('Test:', accuracy_score(y_test, pred_test))"
      ],
      "metadata": {
        "colab": {
          "base_uri": "https://localhost:8080/"
        },
        "id": "2c9ZzeAp5N8g",
        "outputId": "777145d1-4bc9-43bb-b835-e13f5454e96f"
      },
      "execution_count": 231,
      "outputs": [
        {
          "output_type": "stream",
          "name": "stdout",
          "text": [
            "Train: 0.9290046988466467\n",
            "Test: 0.8680486346422165\n"
          ]
        }
      ]
    },
    {
      "cell_type": "markdown",
      "metadata": {
        "id": "3fGYpUIZx0fk"
      },
      "source": [
        "**Ответ:** после max_df модель показывает переобучение, слишком хорошо запоминает тренировочные данные (0.97), а после min_df train accuracy снизился (0.929, более адекватное значение), модель стала меньше переобучаться без потери качества на новых данных, следовательно отсеянные редкие токены (встречающиеся <11 раз) были шумом и не несли полезной информации"
      ]
    },
    {
      "cell_type": "markdown",
      "source": [
        "В предыдущих заданиях признаки не скалировались. Отскалируйте данные (при словаре размера 3.7 тысяч, векторизованные CountVectorizer), обучите логистическую регрессию, посмотрите качество и выведите `barplot`, содержащий по 10 токенов, с наибольшим по модулю положительными/отрицательными весами. Что можно сказать об этих токенах?"
      ],
      "metadata": {
        "id": "Gx_h_-inKbBl"
      }
    },
    {
      "cell_type": "code",
      "source": [
        "from sklearn.preprocessing import StandardScaler\n",
        "import matplotlib.pyplot as plt\n",
        "cv_final = CountVectorizer(\n",
        "    tokenizer=custom_stem_tokenizer,\n",
        "    token_pattern=None,\n",
        "    min_df=11\n",
        ")\n",
        "X_train = cv_final.fit_transform(train['OriginalTweet'])\n",
        "X_test = cv_final.transform(test['OriginalTweet'])\n",
        "scaler = StandardScaler(with_mean=False)\n",
        "X_train_scaled = scaler.fit_transform(X_train)\n",
        "X_test_scaled = scaler.transform(X_test)\n",
        "logreg = LogisticRegression(max_iter=1000)\n",
        "logreg.fit(X_train_scaled, y_train)\n",
        "print(\"Train Accuracy:\", logreg.score(X_train_scaled, y_train))\n",
        "print(\"Test Accuracy:\", logreg.score(X_test_scaled, y_test))\n",
        "\n",
        "weights = logreg.coef_[0]\n",
        "feature_names = cv_final.get_feature_names_out()\n",
        "top_pos = np.argsort(weights)[-10:]\n",
        "top_neg = np.argsort(weights)[:10]\n",
        "plt.figure(figsize=(12, 6))\n",
        "plt.barh(range(20),\n",
        "         np.concatenate([weights[top_pos], weights[top_neg]]),\n",
        "         color=['green']*10 + ['red']*10)\n",
        "plt.yticks(range(20),\n",
        "          np.concatenate([feature_names[top_pos], feature_names[top_neg]]))\n",
        "plt.title(\"Top 10 Positive (green) and Negative (red) Tokens\")\n",
        "plt.xlabel(\"Logistic Regression Weight\")\n",
        "plt.tight_layout()\n",
        "plt.show()"
      ],
      "metadata": {
        "colab": {
          "base_uri": "https://localhost:8080/",
          "height": 466
        },
        "id": "LoNolHzypr5L",
        "outputId": "67369d7a-304c-4cfc-a1cc-e81f5ca465ae"
      },
      "execution_count": 149,
      "outputs": [
        {
          "output_type": "stream",
          "name": "stdout",
          "text": [
            "Train Accuracy: 0.9414780008543358\n",
            "Test Accuracy: 0.8447279250548136\n"
          ]
        },
        {
          "output_type": "display_data",
          "data": {
            "text/plain": [
              "<Figure size 1200x600 with 1 Axes>"
            ],
            "image/png": "[encoded data removed]"
          },
          "metadata": {}
        }
      ]
    },
    {
      "cell_type": "markdown",
      "source": [
        "График наглядно показывает, какие слова сильнее всего влияют на предсказания модели, что помогает интерпретировать её решения.\n",
        "\n",
        "Позитивные слова, такие как \"help\", \"thank\", \"like\", \"best\", \"great\", \"safe\", \"pleas\" и тд (эти токены, увеличивающие вероятность позитивного класса (1)) и негативные слова, такие как \"die\", \"fight\", \"kill\", \"emergency\", \"fear\", \"panic\" и тд (увеличивающие вероятность негативного класса (0)) имеют сильную эмоциональную окраску"
      ],
      "metadata": {
        "id": "PiYIElcsuMUU"
      }
    },
    {
      "cell_type": "markdown",
      "metadata": {
        "id": "ktJVOdrIHq7B"
      },
      "source": [
        "## Задание 7 Другие признаки (1.5 балла)"
      ]
    },
    {
      "cell_type": "markdown",
      "metadata": {
        "id": "Yt3jRCZ2H0Og"
      },
      "source": [
        "Мы были сконцентрированы на работе с текстами твиттов и не использовали другие признаки - имена пользователя, дату и местоположение"
      ]
    },
    {
      "cell_type": "markdown",
      "metadata": {
        "id": "52wjewCCo_di"
      },
      "source": [
        "Изучите признаки UserName и ScreenName. полезны ли они? Если полезны, то закодируйте их, добавьте к матрице с отскалированными признаками, обучите логистическую регрессию, замерьте качество."
      ]
    },
    {
      "cell_type": "code",
      "execution_count": 150,
      "metadata": {
        "id": "63thouYZptj6",
        "colab": {
          "base_uri": "https://localhost:8080/"
        },
        "outputId": "a0291e19-2eb8-45b8-c0d2-bfe6250979ad"
      },
      "outputs": [
        {
          "output_type": "execute_result",
          "data": {
            "text/plain": [
              "np.False_"
            ]
          },
          "metadata": {},
          "execution_count": 150
        }
      ],
      "source": [
        "# -- YOUR CODE HERE --\n",
        "df[['UserName', 'ScreenName']].duplicated().any()"
      ]
    },
    {
      "cell_type": "markdown",
      "metadata": {
        "id": "r8_qR-gnpT3a"
      },
      "source": [
        "**Ответ:** эти признаки бесполезны для модели как случайные идентификаторы (все значения уникальны), они не несут нам никакой доп инфы о эмоциональном окрашивание токенов и не участвуют ни в каких закономерностях"
      ]
    },
    {
      "cell_type": "markdown",
      "metadata": {
        "id": "ythEcFSkt7y3"
      },
      "source": [
        "Изучите признак TweetAt в обучающей выборке: преобразуйте его к типу datetime и нарисуйте его гистограмму с разделением по цвету на основе целевой переменной. Полезен ли он? Если полезен, то закодируйте его, добавьте к матрице с отскалированными признаками, обучите логистическую регрессию, замерьте качество."
      ]
    },
    {
      "cell_type": "code",
      "source": [
        "# -- YOUR CODE HERE --\n",
        "train[\"TweetAt\"] = pd.to_datetime(train[\"TweetAt\"], dayfirst=True)\n",
        "test[\"TweetAt\"] = pd.to_datetime(test[\"TweetAt\"], dayfirst=True)\n",
        "plt.figure(figsize=(12, 5))\n",
        "train.groupby([\"TweetAt\", \"Sentiment_bin\"]).size().unstack().plot(\n",
        "    kind=\"bar\", stacked=True, width=1.0, figsize=(14, 5), colormap=\"coolwarm\", alpha=0.8\n",
        ")\n",
        "plt.xlabel(\"Дата\")\n",
        "plt.ylabel(\"Количество твитов\")\n",
        "plt.tight_layout()\n",
        "plt.show()"
      ],
      "metadata": {
        "id": "Lxb_k0JLirNv",
        "colab": {
          "base_uri": "https://localhost:8080/",
          "height": 329
        },
        "outputId": "683149bb-8b1a-411a-897c-4281406a9e98"
      },
      "execution_count": 158,
      "outputs": [
        {
          "output_type": "display_data",
          "data": {
            "text/plain": [
              "<Figure size 1200x500 with 0 Axes>"
            ]
          },
          "metadata": {}
        },
        {
          "output_type": "display_data",
          "data": {
            "text/plain": [
              "<Figure size 1400x500 with 1 Axes>"
            ],
            "image/png": "[encoded data removed]"
          },
          "metadata": {}
        }
      ]
    },
    {
      "cell_type": "markdown",
      "metadata": {
        "id": "4IdLBdpQxM-G"
      },
      "source": [
        "**Ответ:** # из графика можно заметить зависимость sentiment от даты (события, настроения и новости меняются), наблюдаются временные закономерности, которые модель может использовать, следовательно можно сказать что этот признак может быть нам полезен"
      ]
    },
    {
      "cell_type": "code",
      "source": [
        "train[\"TweetAt_ordinal\"] = train[\"TweetAt\"].map(pd.Timestamp.toordinal)\n",
        "test[\"TweetAt_ordinal\"] = test[\"TweetAt\"].map(pd.Timestamp.toordinal)\n",
        "from sklearn.preprocessing import StandardScaler\n",
        "from scipy.sparse import hstack\n",
        "time_scaler = StandardScaler()\n",
        "X_train_time = time_scaler.fit_transform(train[[\"TweetAt_ordinal\"]])\n",
        "X_test_time = time_scaler.transform(test[[\"TweetAt_ordinal\"]])\n",
        "X_train_all = hstack([X_train_scaled, X_train_time])\n",
        "X_test_all = hstack([X_test_scaled, X_test_time])\n",
        "logreg = LogisticRegression(max_iter=1000)\n",
        "logreg.fit(X_train_all, y_train)\n",
        "y_pred = logreg.predict(X_test_all)\n",
        "accuracy_score(y_test, y_pred)"
      ],
      "metadata": {
        "colab": {
          "base_uri": "https://localhost:8080/"
        },
        "id": "8bZYrZ1G4bFJ",
        "outputId": "688c8f65-e617-4cee-b614-cac2ef3db04c"
      },
      "execution_count": 166,
      "outputs": [
        {
          "output_type": "execute_result",
          "data": {
            "text/plain": [
              "0.8449272473589795"
            ]
          },
          "metadata": {},
          "execution_count": 166
        }
      ]
    },
    {
      "cell_type": "markdown",
      "source": [
        "ну качество совсем немного увеличилось"
      ],
      "metadata": {
        "id": "8xJdGWDo43pU"
      }
    },
    {
      "cell_type": "markdown",
      "source": [
        "Поработайте с признаком Location в обучающей выборке. Сколько уникальных значений?"
      ],
      "metadata": {
        "id": "r2JtRPhNP6qx"
      }
    },
    {
      "cell_type": "code",
      "source": [
        "train['Location'].nunique()"
      ],
      "metadata": {
        "colab": {
          "base_uri": "https://localhost:8080/"
        },
        "id": "1pj7zL5G5MWc",
        "outputId": "b9622ced-f78a-4a89-943b-e111f5857435"
      },
      "execution_count": 169,
      "outputs": [
        {
          "output_type": "execute_result",
          "data": {
            "text/plain": [
              "7949"
            ]
          },
          "metadata": {},
          "execution_count": 169
        }
      ]
    },
    {
      "cell_type": "markdown",
      "source": [
        "Постройте гистограмму топ-10 по популярности местоположений (исключая Unknown)"
      ],
      "metadata": {
        "id": "6k4JwpRTQISa"
      }
    },
    {
      "cell_type": "code",
      "source": [
        "# -- YOUR CODE HERE --\n",
        "loc_counts = train[train[\"Location\"].fillna(\"Unknown\").astype(str) != \"Unknown\"][\"Location\"].value_counts().head(10)\n",
        "\n",
        "plt.figure(figsize=(10, 6))\n",
        "sns.barplot(x=loc_counts.index, y=loc_counts.values)\n",
        "plt.xlabel(\"Страна/регион\")\n",
        "plt.ylabel(\"Количество твитов\")\n",
        "plt.xticks(rotation=45)\n",
        "plt.show()"
      ],
      "metadata": {
        "id": "J91YkhegJ0mz",
        "colab": {
          "base_uri": "https://localhost:8080/",
          "height": 609
        },
        "outputId": "441447aa-b4c0-4a0d-d9e1-480463fc9057"
      },
      "execution_count": 210,
      "outputs": [
        {
          "output_type": "display_data",
          "data": {
            "text/plain": [
              "<Figure size 1000x600 with 1 Axes>"
            ],
            "image/png": "[encoded data removed]"
          },
          "metadata": {}
        }
      ]
    },
    {
      "cell_type": "markdown",
      "source": [
        "Видно, что многие местоположения включают в себя более точное название места, чем другие (Например, у некоторых стоит London, UK; а у некоторых просто UK или United Kingdom).\n",
        "\n",
        "Создайте новый признак WiderLocation, который содержит самое широкое местоположение (например, из London, UK должно получиться UK). Сколько уникальных категорий теперь? Постройте аналогичную гистограмму."
      ],
      "metadata": {
        "id": "ZOsv3lODTfYB"
      }
    },
    {
      "cell_type": "code",
      "source": [
        "# -- YOUR CODE HERE --\n",
        "def extract_wider_location(location):\n",
        "    if pd.isna(location) or location.strip().lower() == \"unknown\":\n",
        "        return \"Unknown\"\n",
        "    if ',' in location:\n",
        "        return location.split(',')[-1].strip()\n",
        "    else:\n",
        "        return location.strip()\n",
        "\n",
        "train[\"WiderLocation\"] = train[\"Location\"].apply(extract_wider_location)\n",
        "train[\"WiderLocation\"].nunique()"
      ],
      "metadata": {
        "id": "mSkow6acOMyD",
        "colab": {
          "base_uri": "https://localhost:8080/"
        },
        "outputId": "2da78be1-7579-41d3-e1b9-48b749f1fd55"
      },
      "execution_count": 191,
      "outputs": [
        {
          "output_type": "execute_result",
          "data": {
            "text/plain": [
              "4631"
            ]
          },
          "metadata": {},
          "execution_count": 191
        }
      ]
    },
    {
      "cell_type": "code",
      "source": [
        "import seaborn as sns\n",
        "import matplotlib.pyplot as plt\n",
        "\n",
        "top_wide_locs = (train[train[\"WiderLocation\"] != \"Unknown\"][\"WiderLocation\"].value_counts().head(10))\n",
        "\n",
        "plt.figure(figsize=(10, 6))\n",
        "sns.barplot(x=top_wide_locs.index, y=top_wide_locs.values)\n",
        "plt.xlabel(\"Страна/регион\")\n",
        "plt.ylabel(\"Количество твитов\")\n",
        "plt.xticks(rotation=45)\n",
        "plt.show()"
      ],
      "metadata": {
        "colab": {
          "base_uri": "https://localhost:8080/",
          "height": 600
        },
        "id": "KhRlYfFP9Swe",
        "outputId": "dd7ceb6c-be0d-433f-af5b-96e0b13b4f5e"
      },
      "execution_count": 211,
      "outputs": [
        {
          "output_type": "display_data",
          "data": {
            "text/plain": [
              "<Figure size 1000x600 with 1 Axes>"
            ],
            "image/png": "[encoded data removed]"
          },
          "metadata": {}
        }
      ]
    },
    {
      "cell_type": "markdown",
      "source": [
        "Закодируйте признак WiderLocation с помощью OHE таким образом, чтобы создались только столбцы для местоположений, которые встречаются более одного раза. Сколько таких значений?\n"
      ],
      "metadata": {
        "id": "cgyWrD2eVfff"
      }
    },
    {
      "cell_type": "code",
      "source": [
        "# -- YOUR CODE HERE --\n",
        "loc_counts = train[\"WiderLocation\"].value_counts()\n",
        "frequent_loc = loc_counts[loc_counts > 1].index\n",
        "len(frequent_loc)"
      ],
      "metadata": {
        "id": "SeJBfBWgPvg_",
        "colab": {
          "base_uri": "https://localhost:8080/"
        },
        "outputId": "4e464893-a02b-4992-8f1f-ba6fea05b9b6"
      },
      "execution_count": 215,
      "outputs": [
        {
          "output_type": "execute_result",
          "data": {
            "text/plain": [
              "988"
            ]
          },
          "metadata": {},
          "execution_count": 215
        }
      ]
    },
    {
      "cell_type": "code",
      "source": [
        "train[\"WiderLocationFiltered\"] = train[\"WiderLocation\"].apply(lambda x: x if x in frequent_loc else \"Other\")\n",
        "from sklearn.preprocessing import OneHotEncoder\n",
        "encoder = OneHotEncoder(sparse_output=False, handle_unknown='ignore')\n",
        "loc_ohe = encoder.fit_transform(train[[\"WiderLocationFiltered\"]])\n",
        "loc_feature_names = encoder.get_feature_names_out([\"WiderLocationFiltered\"])\n",
        "loc_ohe.shape[1]"
      ],
      "metadata": {
        "colab": {
          "base_uri": "https://localhost:8080/"
        },
        "id": "XpTH0SqxBGfh",
        "outputId": "f4e5bdf9-98f5-44d2-ad72-8654879a634b"
      },
      "execution_count": 221,
      "outputs": [
        {
          "output_type": "execute_result",
          "data": {
            "text/plain": [
              "989"
            ]
          },
          "metadata": {},
          "execution_count": 221
        }
      ]
    },
    {
      "cell_type": "markdown",
      "source": [
        "Добавьте этот признак к матрице отскалированных текстовых признаков, обучите логистическую регрессию, замерьте качество. Как оно изменилось? Оказался ли признак полезным?\n",
        "\n",
        "\n",
        "*Подсказка:* используйте параметр `categories` в энкодере."
      ],
      "metadata": {
        "id": "ZyMX5kZuimPK"
      }
    },
    {
      "cell_type": "code",
      "source": [
        "# -- YOUR CODE HERE --\n",
        "test[\"WiderLocation\"] = test[\"Location\"].apply(extract_wider_location)\n",
        "loc_counts = train[\"WiderLocation\"].value_counts()\n",
        "frequent_loc = loc_counts[loc_counts > 1].index\n",
        "train[\"WiderLocationFiltered\"] = train[\"WiderLocation\"].apply(lambda x: x if x in frequent_loc else \"Other\")\n",
        "test[\"WiderLocationFiltered\"] = test[\"WiderLocation\"].apply(lambda x: x if x in frequent_loc else \"Other\")\n",
        "categories = [sorted(train[\"WiderLocationFiltered\"].unique())]\n",
        "encoder = OneHotEncoder(categories=categories, handle_unknown='ignore', sparse_output=False)\n",
        "train_loc_ohe = encoder.fit_transform(train[[\"WiderLocationFiltered\"]])\n",
        "test_loc_ohe = encoder.transform(test[[\"WiderLocationFiltered\"]])\n",
        "X_train_all = hstack([X_train_scaled, train_loc_ohe])\n",
        "X_test_all = hstack([X_test_scaled, test_loc_ohe])\n",
        "logreg = LogisticRegression(max_iter=1000)\n",
        "logreg.fit(X_train_all, y_train)\n",
        "y_pred = logreg.predict(X_test_all)\n",
        "accuracy_score(y_test, y_pred)"
      ],
      "metadata": {
        "id": "EO1jNPeeim7A",
        "colab": {
          "base_uri": "https://localhost:8080/"
        },
        "outputId": "6e59eb2a-feb2-4b52-9d6f-794c31248bba"
      },
      "execution_count": 223,
      "outputs": [
        {
          "output_type": "execute_result",
          "data": {
            "text/plain": [
              "0.8445286027506478"
            ]
          },
          "metadata": {},
          "execution_count": 223
        }
      ]
    },
    {
      "cell_type": "markdown",
      "source": [
        "**Ответ:** качество модели упало, потому что признак WiderLocationFiltered, даже после фильтрации, внёс больше шума, чем пользы"
      ],
      "metadata": {
        "id": "7dHsGlDRYUQt"
      }
    }
  ],
  "metadata": {
    "colab": {
      "provenance": []
    },
    "kernelspec": {
      "display_name": "Python 3",
      "name": "python3"
    },
    "language_info": {
      "name": "python"
    }
  },
  "nbformat": 4,
  "nbformat_minor": 0
}