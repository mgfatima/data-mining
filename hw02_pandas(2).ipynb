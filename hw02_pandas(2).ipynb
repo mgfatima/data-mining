{
  "cells": [
    {
      "cell_type": "markdown",
      "metadata": {
        "_uuid": "21c25e4f8bb31570029fd6b069131a5d00f84cf1",
        "id": "A_I782EIWHS6"
      },
      "source": [
        "# Домашнее задание 2 (5 баллов).\n",
        "\n",
        "*Все задания ниже имеют равный вес (5/10)*"
      ]
    },
    {
      "cell_type": "markdown",
      "metadata": {
        "id": "ZChtDBp7WHS7"
      },
      "source": [
        "Код для импорта мы написали за вас (не благодарите, нам не трудно). Дальше код будете писать вы.\n",
        "\n",
        "[Тут](https://habr.com/ru/companies/ruvds/articles/494720/) шпора по pandas. За основу домашнего задания взят ноутбук [отсюда](https://rutube.ru/video/f884aa6ed5f94120b7304506042fe5bb/) (не подглядывайте!)."
      ]
    },
    {
      "cell_type": "code",
      "execution_count": 8,
      "metadata": {
        "_uuid": "568eb2d31004b87d22e119112ae01a1e75105f1d",
        "id": "_BR6SY-zWHS8"
      },
      "outputs": [],
      "source": [
        "import pandas as pd\n",
        "import numpy as np"
      ]
    },
    {
      "cell_type": "markdown",
      "metadata": {
        "id": "8fGbJXLNWHS8"
      },
      "source": [
        "#### Описание данных\n",
        "\n",
        "Автор д/з - плохой человек, который не стал переводить описание с мотивировкой, что весь DS на английском. Так что описание полей будет на английском:\n",
        "\n",
        "1. Account ID\n",
        "- Description: A unique identifier for each social media account in the dataset.\n",
        "- Type: Integer\n",
        "- Example: 1, 2, 3, …\n",
        "2. Username\n",
        "- Description: The username or handle of the social media account.\n",
        "- Type: String\n",
        "- Example: john_doe, tech_guru_22, fitness_freak\n",
        "3. Platform\n",
        "- Description: The social media platform the account is using (Instagram, Twitter, Facebook, TikTok, LinkedIn).\n",
        "- Type: Categorical (String)\n",
        "- Example: Instagram, Twitter, Facebook, TikTok, LinkedIn\n",
        "4. Follower Count\n",
        "- Description: The total number of followers the account has.\n",
        "- Type: Integer\n",
        "- Example: 1500, 245000, 78000\n",
        "5. Posts Per Week\n",
        "- Description: The average number of posts the account creates per week.\n",
        "- Type: Integer\n",
        "- Example: 3, 5, 7\n",
        "6. Engagement Rate\n",
        "- Description: The percentage of interactions (likes, comments, shares) relative to the follower count. This is a measure of how engaging the content is.\n",
        "- Type: Float\n",
        "- Range: 0.01 to 0.15\n",
        "- Example: 0.045 (4.5% engagement rate)\n",
        "7. Ad Spend (USD)\n",
        "- Description: The monthly amount spent on advertising or promoting posts.\n",
        "- Type: Float\n",
        "- Example: 150.75, 850.00, 300.50\n",
        "8. Conversion Rate\n",
        "- Description: The percentage of users who take a desired action (e.g., clicking a link, signing up, etc.) after interacting with an ad.\n",
        "- Type: Float\n",
        "- Range: 0.01 to 0.05 (1% to 5% conversion rate)\n",
        "- Example: 0.025 (2.5% conversion rate)\n",
        "9. Campaign Reach\n",
        "- Description: The total number of unique users reached by the user’s campaigns in a given month.\n",
        "- Type: Integer\n",
        "- Example: 5000, 20000, 15000"
      ]
    },
    {
      "cell_type": "markdown",
      "metadata": {
        "id": "7cRKtk1gWHS8"
      },
      "source": [
        "#### Задание 0\n",
        "\n",
        "Подгрузите данные. Да-да, за чтение таблицы баллов не будет))\n",
        "\n",
        "**Hint**: [pd.read_csv](https://pandas.pydata.org/pandas-docs/stable/reference/api/pandas.read_csv.html)"
      ]
    },
    {
      "cell_type": "code",
      "execution_count": 9,
      "metadata": {
        "id": "R03ulp4LWHS9"
      },
      "outputs": [],
      "source": [
        "df = \"data.csv\" # ^⨀ᴥ⨀^"
      ]
    },
    {
      "cell_type": "code",
      "execution_count": 10,
      "metadata": {
        "id": "ZjYEet55WHS9"
      },
      "outputs": [],
      "source": [
        "df = pd.read_csv(\"data.csv\")"
      ]
    },
    {
      "cell_type": "markdown",
      "metadata": {
        "id": "T_tIW4ZAWHS9"
      },
      "source": [
        "#### Задание 1\n",
        "\n",
        "Колонка `Platform` содержит название различных платформ. Давайте представим, что в них есть некоторое отношение порядка. Закодируйте каждую платформу целым числом (от 0 до N) и положите этот \"код\" в новую колонку `Platform_Code`. Теперь вычислите корреляцию Спирмена между всеми парами колонок в датасете (результатом будет таблица корреляций). В качестве ответа выведите значение корреляции `Platform_Code` с `Engagement Rate`. Можете после вывода числа еще коротко написать, что оно означает (нет, это не оценивается).\n",
        "\n",
        "**Hint**: [pd.factorize](https://pandas.pydata.org/pandas-docs/stable/reference/api/pandas.factorize.html), [pd.DataFrame.select_dtypes](https://pandas.pydata.org/pandas-docs/stable/reference/api/pandas.DataFrame.select_dtypes.html), [pd.DataFrame.corr](https://pandas.pydata.org/pandas-docs/stable/reference/api/pandas.DataFrame.corr.html)."
      ]
    },
    {
      "cell_type": "code",
      "execution_count": 11,
      "metadata": {
        "colab": {
          "base_uri": "https://localhost:8080/"
        },
        "id": "ogoHf5n7WHS9",
        "outputId": "3706cdc5-cc80-4eef-ae54-234e550e7162"
      },
      "outputs": [
        {
          "output_type": "stream",
          "name": "stdout",
          "text": [
            "0.03138169529349812\n"
          ]
        }
      ],
      "source": [
        "arr = df[\"Platform\"]\n",
        "codes, uniques = pd.factorize(arr)\n",
        "df[\"Platform_Code\"] = codes\n",
        "newdf = df.select_dtypes(include=\"number\")\n",
        "spearman_corr= newdf.corr(method=\"spearman\")\n",
        "value = spearman_corr.loc[\"Platform_Code\", \"Engagement Rate\"]\n",
        "print(value)\n",
        " # ( ੭ ･ᴗ･ )੭"
      ]
    },
    {
      "cell_type": "markdown",
      "metadata": {
        "id": "_r1khDOSWHS9"
      },
      "source": [
        "#### Задание 2\n",
        "\n",
        "Теперь посмотрите на столбец `Follower Count`. В нем какие-то числа. Иногда бывает полезно провести дискретизацию такого признака. Разбейте все значения в столбце на 4 группы: \"Low\", \"Medium\", \"High\", \"Very High\". Каждая группа включает в себя новые 25% данных. То есть, Low включает в себя 25% самых маленьких значений признака и так далее. Положите значения \"Low\", \"Medium\", \"High\" или \"Very High\" для каждого сэмпла датасета в новую колонку `Follower_Bin`. Теперь посчитайте среднее значение `Engagement Rate` для каждой категории из `Follower_Bin`. В качестве ответа выведите значение для категории \"High\".\n",
        "\n",
        "**Hint**: [pd.qcut](https://pandas.pydata.org/pandas-docs/stable/reference/api/pandas.qcut.html), [pd.groupby](https://pandas.pydata.org/pandas-docs/stable/reference/api/pandas.DataFrame.groupby.html), [pd.DataFrame.mean](https://pandas.pydata.org/pandas-docs/stable/reference/api/pandas.DataFrame.mean.html)"
      ]
    },
    {
      "cell_type": "code",
      "execution_count": 13,
      "metadata": {
        "colab": {
          "base_uri": "https://localhost:8080/"
        },
        "id": "aU5-M1M_WHS9",
        "outputId": "a5082f12-d710-4e3c-aea5-95382dbfb80f"
      },
      "outputs": [
        {
          "output_type": "stream",
          "name": "stdout",
          "text": [
            "0.08655032\n"
          ]
        },
        {
          "output_type": "stream",
          "name": "stderr",
          "text": [
            "<ipython-input-13-6a73e4c39766>:2: FutureWarning: The default of observed=False is deprecated and will be changed to True in a future version of pandas. Pass observed=False to retain current behavior or observed=True to adopt the future default and silence this warning.\n",
            "  engagement_means = df.groupby(\"Follower_Bin\")[\"Engagement Rate\"].mean()\n"
          ]
        }
      ],
      "source": [
        "df[\"Follower_Bin\"] = pd.qcut(df[\"Follower Count\"], q=4, labels=[\"Low\", \"Medium\", \"High\", \"Very High\"])\n",
        "engagement_means = df.groupby(\"Follower_Bin\")[\"Engagement Rate\"].mean()\n",
        "engagement_high = engagement_means[\"High\"]\n",
        "print(engagement_high)"
      ]
    },
    {
      "cell_type": "markdown",
      "metadata": {
        "id": "PnynqJOsWHS9"
      },
      "source": [
        "#### Задание 3\n",
        "\n",
        "Иногда бывает полезно превратить широкую таблицу в длинную (например, для визуализаций сразу нескольких признаков на одной картинке). Да, звучит странно, но именно этим вы сейчас и займетесь. Сделайте новый датафрейм `melted_df`, в который вы поместите каждый сэмпл датасета 6 раз: по одному разу на значение из 'Follower Count', 'Posts Per Week', 'Ad Spend (USD)', 'Conversion Rate', 'Engagement Rate' и 'Campaign Reach'. То есть, вы берете сэмпл из датасета (строку) и превращаете ее в 6 отдельных строк. Каждая отдельная строка в столбце `Metric` имеет имя из предложенного списка 5 признаков, а в столбце `Value` - значение данного сэмпла по этому признаку. Значение `Platform` повторяется в этих 6 строках.\n",
        "\n",
        "Иначе говоря,\n",
        "\n",
        "```json\n",
        "{\n",
        "    \"Account ID\": 1,\n",
        "    \"Username\": \"harrislisa\",\n",
        "    \"Platform\": \"TikTok\",\n",
        "    \"Follower Count\": 54217,\n",
        "    \"Posts Per Week\": 3,\n",
        "    \"Engagement Rate\": 0.0986,\n",
        "    \"Ad Spend (USD)\": 538.1,\n",
        "    \"Conversion Rate\": 0.049,\n",
        "    \"Campaign Reach\": 1308,\n",
        "    \"Platform_Code\": 0,\n",
        "    \"Follower_Bin\": \"Low\"\n",
        "}\n",
        "```\n",
        "\n",
        "превращается в\n",
        "\n",
        "```json\n",
        "{\n",
        "    \"Platform\": \"TikTok\",\n",
        "    \"Metric\": \"Follower Count\",\n",
        "    \"Value\": 54217,\n",
        "},\n",
        "{\n",
        "    \"Platform\": \"TikTok\",\n",
        "    \"Metric\": \"Posts Per Week\",\n",
        "    \"Value\": 3,\n",
        "}, ...\n",
        "```\n",
        "\n",
        "Для каждого уникальной пары значений (`Platform`, `Metric`) посчитайте моду среди всех значений `Value` для этой пары, результат сделайте списком и оставьте только наибольшее. В качестве ответа выведите сумму полученных мод (сумму всех значений в столбце `Value` уже после вычисления мод). Иначе говоря, выведите сумму всех мод значений для всех уникальных пар (`Platform`, `Metric`).\n",
        "\n",
        "**Hint**: [pd.melt](https://pandas.pydata.org/pandas-docs/stable/reference/api/pandas.melt.html), [pd.DataFrame.mode](https://pandas.pydata.org/pandas-docs/stable/reference/api/pandas.DataFrame.mode.html), [pd.DataFrameGroupBy.agg](https://pandas.pydata.org/docs/dev/reference/api/pandas.core.groupby.DataFrameGroupBy.agg.html)"
      ]
    },
    {
      "cell_type": "code",
      "execution_count": 19,
      "metadata": {
        "colab": {
          "base_uri": "https://localhost:8080/"
        },
        "id": "9JtJCjRTWHS-",
        "outputId": "3f1968ba-2995-4c9a-d1bf-a96858a0f87b"
      },
      "outputs": [
        {
          "output_type": "stream",
          "name": "stdout",
          "text": [
            "3100285.4716\n"
          ]
        }
      ],
      "source": [
        "melt_df = df.melt(\n",
        "    id_vars=[\"Platform\"],\n",
        "    value_vars=[\"Follower Count\", \"Posts Per Week\", \"Engagement Rate\",\n",
        "                \"Ad Spend (USD)\", \"Conversion Rate\", \"Campaign Reach\"],\n",
        "    var_name=\"Metric\",\n",
        "    value_name=\"Value\"\n",
        ")\n",
        "mode_values = melt_df.groupby([\"Platform\", \"Metric\"])[\"Value\"].agg(lambda x: x.mode().max())\n",
        "sum_of_modes = mode_values.sum()\n",
        "print(sum_of_modes)\n",
        "# (づ๑•ᴗ•๑)づ♡"
      ]
    },
    {
      "cell_type": "markdown",
      "metadata": {
        "id": "K_7C9DpvWHS-"
      },
      "source": [
        "#### Задание 4\n",
        "\n",
        "А теперь хочется посмотреть на самые популярные аккаунты на разных платформах. Для каждой платформы отсортируйте датафрейм по убыванию количества подписчиков (`Follower Count`) - да, без циклов, сразу для всех платформ сделать сортировку, а затем оставьте только первые три записи для каждой платформы - это и будут три самых популярных аккаунта для каждой платформы. В качестве ответа выведите саму таблицу и минимальное значение `Follower Count` в ней.\n",
        "\n",
        "**Hint**: к *groupby* можно применять функции - это эквивалентно применению функции к каждой \"группе\" внутри groupby-объекта. Читайте [про применение apply к датафрейму после groupby](https://pandas.pydata.org/pandas-docs/stable/user_guide/groupby.html#flexible-apply)."
      ]
    },
    {
      "cell_type": "code",
      "execution_count": 15,
      "metadata": {
        "colab": {
          "base_uri": "https://localhost:8080/"
        },
        "id": "3quujNscWHS-",
        "outputId": "26ab5eda-0717-4689-fcd2-618fc6ebd140"
      },
      "outputs": [
        {
          "output_type": "stream",
          "name": "stdout",
          "text": [
            "      Account ID         Username   Platform  Follower Count  Posts Per Week  \\\n",
            "2403        2404           eric65   Facebook          999982               6   \n",
            "7350        7351     patricknoble   Facebook          997915               3   \n",
            "1689        1690      chavezjason   Facebook          997512               7   \n",
            "8685        8686  alexandersamuel  Instagram          999726               3   \n",
            "3965        3966         lrodgers  Instagram          999351               1   \n",
            "2189        2190           jbrown  Instagram          997844               5   \n",
            "3039        3040          toneill   LinkedIn          999055               4   \n",
            "6359        6360    andrewgregory   LinkedIn          998968               7   \n",
            "2159        2160     ashleycooper   LinkedIn          998925               6   \n",
            "5838        5839     edwardthomas     TikTok          999739               7   \n",
            "4234        4235    andradewesley     TikTok          999234               5   \n",
            "2575        2576     williamwyatt     TikTok          998623               6   \n",
            "4920        4921      teresaellis    Twitter          999919               6   \n",
            "9684        9685           sriley    Twitter          999442               3   \n",
            "7576        7577       peggymunoz    Twitter          998216               6   \n",
            "\n",
            "      Engagement Rate  Ad Spend (USD)  Conversion Rate  Campaign Reach  \\\n",
            "2403           0.0642          884.06           0.0281           17312   \n",
            "7350           0.0834          429.01           0.0182           25985   \n",
            "1689           0.0834          993.20           0.0397           45717   \n",
            "8685           0.0834          687.61           0.0205           11050   \n",
            "3965           0.0834          565.07           0.0335           12391   \n",
            "2189           0.0642          505.61           0.0202           14717   \n",
            "3039           0.0642          799.49           0.0174           21862   \n",
            "6359           0.1020          797.64           0.0351           15552   \n",
            "2159           0.0856          474.46           0.0156           45956   \n",
            "5838           0.0642          630.77           0.0325           35523   \n",
            "4234           0.0834          872.77           0.0481           17188   \n",
            "2575           0.0856          477.98           0.0250           43299   \n",
            "4920           0.0834          411.63           0.0460            3975   \n",
            "9684           0.0834          206.84           0.0225           12783   \n",
            "7576           0.0642          456.61           0.0456           22037   \n",
            "\n",
            "      Platform_Code Follower_Bin  \n",
            "2403              2    Very High  \n",
            "7350              2    Very High  \n",
            "1689              2    Very High  \n",
            "8685              3    Very High  \n",
            "3965              3    Very High  \n",
            "2189              3    Very High  \n",
            "3039              1    Very High  \n",
            "6359              1    Very High  \n",
            "2159              1    Very High  \n",
            "5838              0    Very High  \n",
            "4234              0    Very High  \n",
            "2575              0    Very High  \n",
            "4920              4    Very High  \n",
            "9684              4    Very High  \n",
            "7576              4    Very High  \n",
            "997512\n"
          ]
        }
      ],
      "source": [
        "sorted_df = df.sort_values(by=[\"Platform\", \"Follower Count\"], ascending=[True, False])\n",
        "top_accounts = sorted_df.groupby(\"Platform\").head(3)\n",
        "min_follower_count = top_accounts[\"Follower Count\"].min()\n",
        "print(top_accounts)\n",
        "print(min_follower_count)\n",
        "# ε(´סּ︵סּ`)з"
      ]
    },
    {
      "cell_type": "markdown",
      "metadata": {
        "id": "Q-IGv38-WHS-"
      },
      "source": [
        "#### Задание 5\n",
        "\n",
        "Хочется посчитать какую-то метрику. Мы хотим посмотреть, на отношение разности суммы подписчиков аккаунтов с высокой и низкой конверсией к суммарному охвату рекламы на каждой платформе. То есть, мы делим аккаунты на две группы: высокая и низка конверсия. Затем мы смотрим на то, на сколько сильно влияние аккаунтов с высокой конверсией по сравнению с аккаунтами с низкой конверсией.\n",
        "\n",
        "Давайте определим *Conversion Influence* следущим образом:\n",
        "\n",
        "$$Conversion Influence = \\frac{Total Follower\\ Count (High) - Total Follower\\ Count (Low)}{Total Campaign Reach (High)+Total Campaign Reach (Low)}$$\n",
        "\n",
        "Считать эту метрику мы будет для каждой `Platform`. В этой формуле High - это значения всех сэмплов датасета, в которых `Conversion Rate` больше медианы, а `Low` - не более медианы. `Total Feature` - это суммарное количество значений `Feature` либо по `High` сэмплам, либо по `Low`.\n",
        "\n",
        "Чтобы постоянно не пересчитывать, где High. где Low, сделайте новую колонку в датасете `Conversion_Category`. Положите в нее для каждой строки либо High, либо Low.\n",
        "\n",
        "Выведите платформу с самым большим `Conversion Influence`.\n",
        "\n",
        "**Hint**: данное задание не про *groupby*, а скорее про [pd.pivot_table](https://pandas.pydata.org/pandas-docs/stable/reference/api/pandas.pivot_table.html). Сделайте сводную таблицу, по которой уже можно посчитать суммы, а затем подставить их в формулы."
      ]
    },
    {
      "cell_type": "code",
      "execution_count": 57,
      "metadata": {
        "colab": {
          "base_uri": "https://localhost:8080/"
        },
        "id": "1HCzagc9WHS-",
        "outputId": "679cbd47-1bbe-44fc-a0e8-da55af68ab79"
      },
      "outputs": [
        {
          "output_type": "stream",
          "name": "stdout",
          "text": [
            "Twitter\n"
          ]
        }
      ],
      "source": [
        "median= df[\"Conversion Rate\"].median()\n",
        "df[\"Conversion_Category\"] = df[\"Conversion Rate\"].apply(lambda x: \"High\" if x > median else \"Low\")\n",
        "pivot_table = pd.pivot_table(df,\n",
        "                             values=[\"Follower Count\", \"Campaign Reach\"],\n",
        "                             index=\"Platform\",\n",
        "                             columns=\"Conversion_Category\",\n",
        "                             aggfunc=\"sum\",\n",
        "                             fill_value=0)\n",
        "pivot_table.columns = [\"TotalFollower_High\", \"TotalFollower_Low\",\n",
        "                       \"TotalCampaignReach_High\", \"TotalCampaignReach_Low\"]\n",
        "pivot_table[\"Conversion_Influence\"] = (\n",
        "    (pivot_table[\"TotalFollower_High\"] - pivot_table[\"TotalFollower_Low\"]) /\n",
        "    (pivot_table[\"TotalCampaignReach_High\"] + pivot_table[\"TotalCampaignReach_Low\"])\n",
        ")\n",
        "max_platform = pivot_table[\"Conversion_Influence\"].idxmax()\n",
        "print(max_platform)\n",
        "# (︶ω︶)"
      ]
    },
    {
      "cell_type": "markdown",
      "metadata": {
        "id": "3-f841PzWHS-"
      },
      "source": [
        "#### Задание 6\n",
        "\n",
        "Мы знаем, что вам понравилось считать метрики по формуле. Давайте закрепим этот успех. Теперь для каждой платформы посчитаем, на сколько эффективна реклама в разрезе трех последовательных записей в датасете.\n",
        "\n",
        "Для каждой платформы отсортируйте записи в порядке убывания `Posts Per Week`. Будто бы аккаунты, которые постят чаще, используют более \"активные\" стратегии по рекламе. Теперь посчитайте *скользущие суммы с окном 3* по `Campaign Reach` и `Ad Spend (USD)`. Скользящая сумма с окном N - это вы идете по массиву, берете все последовательные тройки записей и суммируете их. Для первых двух записей троек не найдется. Для них скользящее среднее - NaN, что нам не помешает.\n",
        "\n",
        "Теперь для каждого окна посчитайте\n",
        "\n",
        "$$Rolling Efficiency Ratio = \\frac{Rolling Sum of Campaign Reach}{Rolling Sum of Ad Spend}$$\n",
        "\n",
        "По сути, для каждого окна вы посчитаете сколько пользователе привлеклось за один доллар, потреченный на рекламу, в данном окне. Понятно, что значений будет столько, сколько окон. Нам интересно максимально значение такой эффективности для каждой платформы.\n",
        "\n",
        "В качестве ответа выведите название платформы с наибольшей максимальной эффективность и наименьшей (два названия, не одно, не три, ровно два).\n",
        "\n",
        "**Hint**: окна можно делать через [pd.DataFrame.rolling](https://pandas.pydata.org/pandas-docs/stable/reference/api/pandas.DataFrame.rolling.html)."
      ]
    },
    {
      "cell_type": "code",
      "execution_count": 56,
      "metadata": {
        "colab": {
          "base_uri": "https://localhost:8080/"
        },
        "id": "dgluOBcJWHS-",
        "outputId": "21e80b8b-a0e6-4f00-c83f-b74052f548f3"
      },
      "outputs": [
        {
          "output_type": "execute_result",
          "data": {
            "text/plain": [
              "('Facebook', 'TikTok')"
            ]
          },
          "metadata": {},
          "execution_count": 56
        }
      ],
      "source": [
        "df_sorted = df.sort_values(by=[\"Platform\", \"Posts Per Week\"], ascending=[True, False])\n",
        "df_sorted[\"Rolling_Campaign_Reach\"] = df_sorted.groupby(\"Platform\")[\"Campaign Reach\"].transform(lambda x: x.rolling(window=3).sum())\n",
        "df_sorted[\"Rolling_Ad_Spend\"] = df_sorted.groupby(\"Platform\")[\"Ad Spend (USD)\"].transform(lambda x: x.rolling(window=3).sum())\n",
        "df_sorted[\"Rolling_Efficiency_Ratio\"] = df_sorted[\"Rolling_Campaign_Reach\"] / df_sorted[\"Rolling_Ad_Spend\"]\n",
        "efficiency_by_platform = df_sorted.groupby(\"Platform\")[\"Rolling_Efficiency_Ratio\"].max()\n",
        "max_efficiency_platform = efficiency_by_platform.idxmax()\n",
        "min_efficiency_platform = efficiency_by_platform.idxmin()\n",
        "max_efficiency_platform, min_efficiency_platform\n",
        "# (◔/‿\\◔)"
      ]
    },
    {
      "cell_type": "markdown",
      "metadata": {
        "id": "ERXmawG9WHS-"
      },
      "source": [
        "#### Задание 7\n",
        "\n",
        "Это еще не все прекрасные функции pandas, которые мы хотим вам показать. Теперь вы посчитаете, сколько аккаунтов на каждой платформе одновременно лучшие по `Engagement Rate` и `Conversion Rate`.\n",
        "\n",
        "Сделайте два отдельных суб-сета. В одном оставьте для каждой платфмормы один топовый аккаунт по `Engagement Rate`, в другом - по `Conversion Rate`. Соедините эти два подмножества по столбцу `Platform` так, что в одно строке есть описание сразу двух аккаунтов-лидеров. Теперь посмотрите равны ли имена аккаунтов в одной строке. Выведите количество строк, в которых названия аккаунтов совпадают."
      ]
    },
    {
      "cell_type": "code",
      "execution_count": 16,
      "metadata": {
        "colab": {
          "base_uri": "https://localhost:8080/"
        },
        "id": "niTuw-IWWHS-",
        "outputId": "315fbe96-fbcf-4ba7-d393-70c6ddc0b593"
      },
      "outputs": [
        {
          "output_type": "execute_result",
          "data": {
            "text/plain": [
              "0"
            ]
          },
          "metadata": {},
          "execution_count": 16
        }
      ],
      "source": [
        "top_engagement = df.loc[df.groupby(\"Platform\")[\"Engagement Rate\"].idxmax(), [\"Platform\", \"Username\"]]\n",
        "top_engagement.rename(columns={\"Username\": \"Top_Engagement_Username\"}, inplace=True)\n",
        "top_conversion = df.loc[df.groupby(\"Platform\")[\"Conversion Rate\"].idxmax(), [\"Platform\", \"Username\"]]\n",
        "top_conversion.rename(columns={\"Username\": \"Top_Conversion_Username\"}, inplace=True)\n",
        "merge_top = top_engagement.merge(top_conversion, on=\"Platform\")\n",
        "count = (merge_top[\"Top_Engagement_Username\"] == merge_top[\"Top_Conversion_Username\"]).sum()\n",
        "count\n",
        "# ( ͡° ͜ʖ ͡°)"
      ]
    },
    {
      "cell_type": "markdown",
      "metadata": {
        "id": "XHZGfbHdWHS-"
      },
      "source": [
        "#### Задание 8\n",
        "\n",
        "Давайте теперь что-то попроще сделаем. Например, посчитаем отношение суммарного количества подписчиков на аккаунтах с высокой конверсией к такой же сумме в аккаунтах с низкой конверсией (очевидно, для каждой платформы). По сути, мы просто хотим получить число, которое характеризует, на сколько сильно аккаунты с высокой конверсией \"доминируют\" над аккаунтами с низкой конверсией в плане количества подписчиков.\n",
        "\n",
        "Высокой конверсией будем считать конверсию больше средней. Остальное - низкая. Посчитайте суммы подписчиков для каждой платформы, поделите одно на другое и выведите разницу между самым большим значением и самым маленьким, а также платформы, которые соотвутствуют этим значениям.\n",
        "\n",
        "Используйте магическую команду `%%time`, чтобы замерить, сколько времени ушло на исполнение вашего pandas-скрипта."
      ]
    },
    {
      "cell_type": "code",
      "execution_count": 22,
      "metadata": {
        "colab": {
          "base_uri": "https://localhost:8080/"
        },
        "id": "vPoDienwWHS-",
        "outputId": "ee419d88-e99f-476f-b604-7454d11a3a0d"
      },
      "outputs": [
        {
          "output_type": "stream",
          "name": "stdout",
          "text": [
            "Разница: 0.17688741338715763\n",
            "Максимум на платформе: Twitter\n",
            "Минимум на платформе: Instagram\n",
            "CPU times: user 5.39 ms, sys: 0 ns, total: 5.39 ms\n",
            "Wall time: 5.12 ms\n"
          ]
        }
      ],
      "source": [
        "%%time\n",
        "avg_conversion = df[\"Conversion Rate\"].mean()\n",
        "high_conversion = df[df[\"Conversion Rate\"] > avg_conversion]\n",
        "low_conversion = df[df[\"Conversion Rate\"] <= avg_conversion]\n",
        "high_followers = high_conversion.groupby(\"Platform\")[\"Follower Count\"].sum()\n",
        "low_followers = low_conversion.groupby(\"Platform\")[\"Follower Count\"].sum()\n",
        "conv_domin = high_followers / low_followers\n",
        "max_platform = conv_domin.idxmax()\n",
        "min_platform = conv_domin.idxmin()\n",
        "difference = conv_domin.max() - conv_domin.min()\n",
        "print(\"Разница:\", difference)\n",
        "print(\"Максимум на платформе:\", max_platform)\n",
        "print(\"Минимум на платформе:\", min_platform)"
      ]
    },
    {
      "cell_type": "markdown",
      "metadata": {
        "id": "XXgkL_NxWHS-"
      },
      "source": [
        "#### Задание 9\n",
        "\n",
        "А теперь решите задание 8 чисто питоном. Никаких функций и методов pandas. Только питоновские циклы. Замерьте время выполнения кода. Наконец, сравните время в задании 8 и 9. Напишите ниже, кто же победил: чистый python и pandas?\n",
        "\n",
        "**Hint**: Чтобы итерироваться по датафрейму, можно из него сделать генератор через [pd.DataFrame.iterrows](https://pandas.pydata.org/pandas-docs/stable/reference/api/pandas.DataFrame.iterrows.html) или [pd.DataFrame.itertuples](https://pandas.pydata.org/pandas-docs/stable/reference/api/pandas.DataFrame.itertuples.html#pandas.DataFrame.itertuples). К слову, это не все способы итерироваться по датафрейму."
      ]
    },
    {
      "cell_type": "code",
      "source": [
        "%%time\n",
        "conversion_sum = 0\n",
        "for _, row in df.iterrows():\n",
        "    conversion_sum += row[\"Conversion Rate\"]\n",
        "avg_conversion = conversion_sum /len(df['Conversion Rate'])\n",
        "high_conversion_dict = {}\n",
        "low_conversion_dict = {}\n",
        "\n",
        "for _, row in df.iterrows():\n",
        "    platform = row[\"Platform\"]\n",
        "    followers = row[\"Follower Count\"]\n",
        "    conversion_rate = row[\"Conversion Rate\"]\n",
        "\n",
        "    if conversion_rate > avg_conversion:\n",
        "        if platform not in high_conversion_dict:\n",
        "            high_conversion_dict[platform] = 0\n",
        "        high_conversion_dict[platform] += followers\n",
        "    else:\n",
        "        if platform not in low_conversion_dict:\n",
        "            low_conversion_dict[platform] = 0\n",
        "        low_conversion_dict[platform] += followers\n",
        "conv_domin = {}\n",
        "\n",
        "for platform in high_conversion_dict:\n",
        "    if platform in low_conversion_dict and low_conversion_dict[platform] != 0:\n",
        "        conv_domin[platform] = high_conversion_dict[platform] / low_conversion_dict[platform]\n",
        "max_platform = max(conv_domin, key=conv_domin.get)\n",
        "min_platform = min(conv_domin, key=conv_domin.get)\n",
        "difference = conv_domin[max_platform] - conv_domin[min_platform]\n",
        "print(\"Разница:\", difference)\n",
        "print(\"Максимум на платформе:\", max_platform)\n",
        "print(\"Минимум на платформе:\", min_platform)"
      ],
      "metadata": {
        "colab": {
          "base_uri": "https://localhost:8080/"
        },
        "id": "poTZxVuI1MTG",
        "outputId": "96d8c431-8ae9-4cca-e3c7-8fc7dab41cd1"
      },
      "execution_count": 39,
      "outputs": [
        {
          "output_type": "stream",
          "name": "stdout",
          "text": [
            "Разница: 0.17688741338715763\n",
            "Максимум на платформе: Twitter\n",
            "Минимум на платформе: Instagram\n",
            "CPU times: user 571 ms, sys: 0 ns, total: 571 ms\n",
            "Wall time: 571 ms\n"
          ]
        }
      ]
    },
    {
      "cell_type": "markdown",
      "metadata": {
        "id": "EuZ-K_9IWHS-"
      },
      "source": [
        "**А победителем является**: pandas!\n"
      ]
    },
    {
      "cell_type": "markdown",
      "metadata": {
        "id": "cR0C51AbWHS_"
      },
      "source": [
        "#### Задание 10\n",
        "\n",
        "Крайне серьезное задание. Отнеситесь к нему соответствующе. В ячейке ниже напишите ваш любимый анекдот или мем (только без баянов, окей?). Можно плохие. Помните, это задание на полный балл. Проверяющий работу ассистент должен улыбнуться.\n",
        "\n",
        "Если вставляете картинку, то убедитесь, что вы ее не подгружаете локально. А то будет неудобно - потерять балл на этом задании, когда надо было выложить картинку на облако и прокинуть ссылку. И нет, нельзя сюда просто ссылку вставить. Либо ищите, как вставить картинку, либо смешной анекдот. Есть всего два стула - выбирайте..."
      ]
    },
    {
      "cell_type": "code",
      "execution_count": null,
      "metadata": {
        "id": "fH2oMl7DWHS_"
      },
      "outputs": [],
      "source": [
        "диалог ассиста со студентом на защите:\n",
        "с: почему я здесь?\n",
        "а: у нас есть подозрения что работа сделана с помощью чата гпт\n",
        "с: полный бред\n",
        "а: так докажите это\n",
        "с: *открывает историю в дипсике*\n",
        "\n",
        "P.S. Это просто анекдот, правда, не надо защиту ставить, пжпж 🙏🙏\n",
        "\n",
        "\n",
        "анекдот №2 :\n",
        "мне все-таки сняли балл за просрочку мягкого дд 🤣🤣🤣\n",
        "\n",
        "P.S. хоть бы тоже просто анекдот 😭🙏 (или плюс балл за красивые глазки и годные анекдоты от самого лучшего и доброго ассиста🙃! (и умение подлизаться грех не оценить))\n",
        "# ‿( ́ ̵ _-`)‿"
      ]
    },
    {
      "cell_type": "markdown",
      "metadata": {
        "id": "qk6As6N9WHS_"
      },
      "source": []
    }
  ],
  "metadata": {
    "kernelspec": {
      "display_name": "default",
      "language": "python",
      "name": "python3"
    },
    "language_info": {
      "codemirror_mode": {
        "name": "ipython",
        "version": 3
      },
      "file_extension": ".py",
      "mimetype": "text/x-python",
      "name": "python",
      "nbconvert_exporter": "python",
      "pygments_lexer": "ipython3",
      "version": "3.11.9"
    },
    "colab": {
      "provenance": []
    }
  },
  "nbformat": 4,
  "nbformat_minor": 0
}